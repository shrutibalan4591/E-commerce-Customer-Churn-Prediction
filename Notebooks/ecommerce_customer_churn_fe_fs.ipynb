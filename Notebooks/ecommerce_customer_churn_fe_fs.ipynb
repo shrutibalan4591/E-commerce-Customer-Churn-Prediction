{
  "cells": [
    {
      "cell_type": "markdown",
      "metadata": {
        "id": "zUYZHy8vQdNf"
      },
      "source": [
        "# **Import necessary libraries and Load data from database**"
      ]
    },
    {
      "cell_type": "code",
      "execution_count": null,
      "metadata": {
        "colab": {
          "base_uri": "https://localhost:8080/"
        },
        "id": "T3mIORiqxQWM",
        "outputId": "e2e17732-04fa-4549-b32b-ed52f99b4b97"
      },
      "outputs": [
        {
          "name": "stderr",
          "output_type": "stream",
          "text": [
            "INFO:root:FILE STARTS RUNNING!\n"
          ]
        }
      ],
      "source": [
        "import logging\n",
        "\n",
        "logger = logging.getLogger()\n",
        "\n",
        "file_handler = logging.FileHandler(filename='ecc_fe_log.log', mode='w')\n",
        "formatter = logging.Formatter('%(asctime)s - %(name)s - %(levelname)s - %(message)s')\n",
        "file_handler.setFormatter(formatter)\n",
        "logger.addHandler(file_handler)\n",
        "\n",
        "logger.setLevel(logging.DEBUG)\n",
        "logger.info('FILE STARTS RUNNING!')"
      ]
    },
    {
      "cell_type": "code",
      "execution_count": null,
      "metadata": {
        "colab": {
          "base_uri": "https://localhost:8080/"
        },
        "id": "KpbkPX2XQqIE",
        "outputId": "50c59c57-9263-4cf4-8354-968c2cc213df"
      },
      "outputs": [
        {
          "name": "stderr",
          "output_type": "stream",
          "text": [
            "INFO:numexpr.utils:NumExpr defaulting to 2 threads.\n",
            "DEBUG:matplotlib.pyplot:Loaded backend module://ipykernel.pylab.backend_inline version unknown.\n"
          ]
        }
      ],
      "source": [
        "import pandas as pd\n",
        "import numpy as np\n",
        "import matplotlib.pyplot as plt\n",
        "%matplotlib inline\n",
        "import seaborn as sns\n",
        "\n",
        "import scipy.stats as stats\n",
        "from scipy.stats import chi2_contingency\n",
        "\n",
        "from pymongo import MongoClient\n",
        "\n",
        "import warnings\n",
        "warnings.filterwarnings('ignore')"
      ]
    },
    {
      "cell_type": "code",
      "execution_count": null,
      "metadata": {
        "colab": {
          "base_uri": "https://localhost:8080/"
        },
        "id": "mBKp1IXk4Er2",
        "outputId": "c37040fb-0177-455b-c18a-9f2f26b5ddf7"
      },
      "outputs": [
        {
          "name": "stderr",
          "output_type": "stream",
          "text": [
            "INFO:root:Libraries imported!\n"
          ]
        }
      ],
      "source": [
        "logger.info('Libraries imported!')"
      ]
    },
    {
      "cell_type": "code",
      "execution_count": null,
      "metadata": {
        "colab": {
          "base_uri": "https://localhost:8080/"
        },
        "id": "VmKG0J6gRXN3",
        "outputId": "e5eea090-da2e-4ac3-f4f7-4b4f8d6a308d"
      },
      "outputs": [
        {
          "name": "stderr",
          "output_type": "stream",
          "text": [
            "INFO:root:Database connected!\n"
          ]
        },
        {
          "data": {
            "text/plain": [
              "['CHURN', 'loan_db', 'admin', 'local']"
            ]
          },
          "execution_count": 8,
          "metadata": {},
          "output_type": "execute_result"
        }
      ],
      "source": [
        "# Connect to Mongodb cluster\n",
        "client = MongoClient(\"mongodb+srv://<username>:<password>@mycluster.g3bp8fr.mongodb.net/?retryWrites=true&w=majority\")\n",
        "\n",
        "logger.info('Database connected!')\n",
        "\n",
        "# List of databases\n",
        "db_list = client.list_database_names()\n",
        "db_list"
      ]
    },
    {
      "cell_type": "code",
      "execution_count": null,
      "metadata": {
        "id": "TEpTeMj9RjJ2"
      },
      "outputs": [],
      "source": [
        "db = client.CHURN"
      ]
    },
    {
      "cell_type": "code",
      "execution_count": null,
      "metadata": {
        "colab": {
          "base_uri": "https://localhost:8080/"
        },
        "id": "nnqmjVjGUL6h",
        "outputId": "4ad3b356-5be8-4cec-d625-fca3f310a842"
      },
      "outputs": [
        {
          "data": {
            "text/html": [
              "\n",
              "  <div id=\"df-6eabe09b-7d33-4d8d-8bad-38b2ecca0df8\">\n",
              "    <div class=\"colab-df-container\">\n",
              "      <div>\n",
              "<style scoped>\n",
              "    .dataframe tbody tr th:only-of-type {\n",
              "        vertical-align: middle;\n",
              "    }\n",
              "\n",
              "    .dataframe tbody tr th {\n",
              "        vertical-align: top;\n",
              "    }\n",
              "\n",
              "    .dataframe thead th {\n",
              "        text-align: right;\n",
              "    }\n",
              "</style>\n",
              "<table border=\"1\" class=\"dataframe\">\n",
              "  <thead>\n",
              "    <tr style=\"text-align: right;\">\n",
              "      <th></th>\n",
              "      <th>CustomerID</th>\n",
              "      <th>Churn</th>\n",
              "      <th>Tenure</th>\n",
              "      <th>PreferredLoginDevice</th>\n",
              "      <th>CityTier</th>\n",
              "      <th>WarehouseToHome</th>\n",
              "      <th>PreferredPaymentMode</th>\n",
              "      <th>Gender</th>\n",
              "      <th>HourSpendOnApp</th>\n",
              "      <th>NumberOfDeviceRegistered</th>\n",
              "      <th>PreferedOrderCat</th>\n",
              "      <th>SatisfactionScore</th>\n",
              "      <th>MaritalStatus</th>\n",
              "      <th>NumberOfAddress</th>\n",
              "      <th>Complain</th>\n",
              "      <th>OrderAmountHikeFromlastYear</th>\n",
              "      <th>CouponUsed</th>\n",
              "      <th>OrderCount</th>\n",
              "      <th>DaySinceLastOrder</th>\n",
              "      <th>CashbackAmount</th>\n",
              "    </tr>\n",
              "  </thead>\n",
              "  <tbody>\n",
              "    <tr>\n",
              "      <th>0</th>\n",
              "      <td>50001</td>\n",
              "      <td>1</td>\n",
              "      <td>4.0</td>\n",
              "      <td>Mobile</td>\n",
              "      <td>3</td>\n",
              "      <td>6.0</td>\n",
              "      <td>DC</td>\n",
              "      <td>Female</td>\n",
              "      <td>3.0</td>\n",
              "      <td>3</td>\n",
              "      <td>Laptop</td>\n",
              "      <td>2</td>\n",
              "      <td>Single</td>\n",
              "      <td>9</td>\n",
              "      <td>1</td>\n",
              "      <td>11.0</td>\n",
              "      <td>1.0</td>\n",
              "      <td>1.0</td>\n",
              "      <td>5.0</td>\n",
              "      <td>159.93</td>\n",
              "    </tr>\n",
              "    <tr>\n",
              "      <th>1</th>\n",
              "      <td>50002</td>\n",
              "      <td>1</td>\n",
              "      <td>10.0</td>\n",
              "      <td>Mobile</td>\n",
              "      <td>1</td>\n",
              "      <td>8.0</td>\n",
              "      <td>UPI</td>\n",
              "      <td>Male</td>\n",
              "      <td>3.0</td>\n",
              "      <td>4</td>\n",
              "      <td>Mobile</td>\n",
              "      <td>3</td>\n",
              "      <td>Single</td>\n",
              "      <td>7</td>\n",
              "      <td>1</td>\n",
              "      <td>15.0</td>\n",
              "      <td>0.0</td>\n",
              "      <td>1.0</td>\n",
              "      <td>0.0</td>\n",
              "      <td>120.90</td>\n",
              "    </tr>\n",
              "    <tr>\n",
              "      <th>2</th>\n",
              "      <td>50003</td>\n",
              "      <td>1</td>\n",
              "      <td>10.0</td>\n",
              "      <td>Mobile</td>\n",
              "      <td>1</td>\n",
              "      <td>30.0</td>\n",
              "      <td>DC</td>\n",
              "      <td>Male</td>\n",
              "      <td>2.0</td>\n",
              "      <td>4</td>\n",
              "      <td>Mobile</td>\n",
              "      <td>3</td>\n",
              "      <td>Single</td>\n",
              "      <td>6</td>\n",
              "      <td>1</td>\n",
              "      <td>14.0</td>\n",
              "      <td>0.0</td>\n",
              "      <td>1.0</td>\n",
              "      <td>3.0</td>\n",
              "      <td>120.28</td>\n",
              "    </tr>\n",
              "    <tr>\n",
              "      <th>3</th>\n",
              "      <td>50004</td>\n",
              "      <td>1</td>\n",
              "      <td>0.0</td>\n",
              "      <td>Mobile</td>\n",
              "      <td>3</td>\n",
              "      <td>15.0</td>\n",
              "      <td>DC</td>\n",
              "      <td>Male</td>\n",
              "      <td>2.0</td>\n",
              "      <td>4</td>\n",
              "      <td>Laptop</td>\n",
              "      <td>5</td>\n",
              "      <td>Single</td>\n",
              "      <td>8</td>\n",
              "      <td>0</td>\n",
              "      <td>23.0</td>\n",
              "      <td>0.0</td>\n",
              "      <td>1.0</td>\n",
              "      <td>3.0</td>\n",
              "      <td>134.07</td>\n",
              "    </tr>\n",
              "    <tr>\n",
              "      <th>4</th>\n",
              "      <td>50005</td>\n",
              "      <td>1</td>\n",
              "      <td>0.0</td>\n",
              "      <td>Mobile</td>\n",
              "      <td>1</td>\n",
              "      <td>12.0</td>\n",
              "      <td>CC</td>\n",
              "      <td>Male</td>\n",
              "      <td>3.0</td>\n",
              "      <td>3</td>\n",
              "      <td>Mobile</td>\n",
              "      <td>5</td>\n",
              "      <td>Single</td>\n",
              "      <td>3</td>\n",
              "      <td>0</td>\n",
              "      <td>11.0</td>\n",
              "      <td>1.0</td>\n",
              "      <td>1.0</td>\n",
              "      <td>3.0</td>\n",
              "      <td>129.60</td>\n",
              "    </tr>\n",
              "  </tbody>\n",
              "</table>\n",
              "</div>\n",
              "      <button class=\"colab-df-convert\" onclick=\"convertToInteractive('df-6eabe09b-7d33-4d8d-8bad-38b2ecca0df8')\"\n",
              "              title=\"Convert this dataframe to an interactive table.\"\n",
              "              style=\"display:none;\">\n",
              "        \n",
              "  <svg xmlns=\"http://www.w3.org/2000/svg\" height=\"24px\"viewBox=\"0 0 24 24\"\n",
              "       width=\"24px\">\n",
              "    <path d=\"M0 0h24v24H0V0z\" fill=\"none\"/>\n",
              "    <path d=\"M18.56 5.44l.94 2.06.94-2.06 2.06-.94-2.06-.94-.94-2.06-.94 2.06-2.06.94zm-11 1L8.5 8.5l.94-2.06 2.06-.94-2.06-.94L8.5 2.5l-.94 2.06-2.06.94zm10 10l.94 2.06.94-2.06 2.06-.94-2.06-.94-.94-2.06-.94 2.06-2.06.94z\"/><path d=\"M17.41 7.96l-1.37-1.37c-.4-.4-.92-.59-1.43-.59-.52 0-1.04.2-1.43.59L10.3 9.45l-7.72 7.72c-.78.78-.78 2.05 0 2.83L4 21.41c.39.39.9.59 1.41.59.51 0 1.02-.2 1.41-.59l7.78-7.78 2.81-2.81c.8-.78.8-2.07 0-2.86zM5.41 20L4 18.59l7.72-7.72 1.47 1.35L5.41 20z\"/>\n",
              "  </svg>\n",
              "      </button>\n",
              "      \n",
              "  <style>\n",
              "    .colab-df-container {\n",
              "      display:flex;\n",
              "      flex-wrap:wrap;\n",
              "      gap: 12px;\n",
              "    }\n",
              "\n",
              "    .colab-df-convert {\n",
              "      background-color: #E8F0FE;\n",
              "      border: none;\n",
              "      border-radius: 50%;\n",
              "      cursor: pointer;\n",
              "      display: none;\n",
              "      fill: #1967D2;\n",
              "      height: 32px;\n",
              "      padding: 0 0 0 0;\n",
              "      width: 32px;\n",
              "    }\n",
              "\n",
              "    .colab-df-convert:hover {\n",
              "      background-color: #E2EBFA;\n",
              "      box-shadow: 0px 1px 2px rgba(60, 64, 67, 0.3), 0px 1px 3px 1px rgba(60, 64, 67, 0.15);\n",
              "      fill: #174EA6;\n",
              "    }\n",
              "\n",
              "    [theme=dark] .colab-df-convert {\n",
              "      background-color: #3B4455;\n",
              "      fill: #D2E3FC;\n",
              "    }\n",
              "\n",
              "    [theme=dark] .colab-df-convert:hover {\n",
              "      background-color: #434B5C;\n",
              "      box-shadow: 0px 1px 3px 1px rgba(0, 0, 0, 0.15);\n",
              "      filter: drop-shadow(0px 1px 2px rgba(0, 0, 0, 0.3));\n",
              "      fill: #FFFFFF;\n",
              "    }\n",
              "  </style>\n",
              "\n",
              "      <script>\n",
              "        const buttonEl =\n",
              "          document.querySelector('#df-6eabe09b-7d33-4d8d-8bad-38b2ecca0df8 button.colab-df-convert');\n",
              "        buttonEl.style.display =\n",
              "          google.colab.kernel.accessAllowed ? 'block' : 'none';\n",
              "\n",
              "        async function convertToInteractive(key) {\n",
              "          const element = document.querySelector('#df-6eabe09b-7d33-4d8d-8bad-38b2ecca0df8');\n",
              "          const dataTable =\n",
              "            await google.colab.kernel.invokeFunction('convertToInteractive',\n",
              "                                                     [key], {});\n",
              "          if (!dataTable) return;\n",
              "\n",
              "          const docLinkHtml = 'Like what you see? Visit the ' +\n",
              "            '<a target=\"_blank\" href=https://colab.research.google.com/notebooks/data_table.ipynb>data table notebook</a>'\n",
              "            + ' to learn more about interactive tables.';\n",
              "          element.innerHTML = '';\n",
              "          dataTable['output_type'] = 'display_data';\n",
              "          await google.colab.output.renderOutput(dataTable, element);\n",
              "          const docLink = document.createElement('div');\n",
              "          docLink.innerHTML = docLinkHtml;\n",
              "          element.appendChild(docLink);\n",
              "        }\n",
              "      </script>\n",
              "    </div>\n",
              "  </div>\n",
              "  "
            ],
            "text/plain": [
              "   CustomerID  Churn  Tenure PreferredLoginDevice  CityTier  WarehouseToHome  \\\n",
              "0       50001      1     4.0               Mobile         3              6.0   \n",
              "1       50002      1    10.0               Mobile         1              8.0   \n",
              "2       50003      1    10.0               Mobile         1             30.0   \n",
              "3       50004      1     0.0               Mobile         3             15.0   \n",
              "4       50005      1     0.0               Mobile         1             12.0   \n",
              "\n",
              "  PreferredPaymentMode  Gender  HourSpendOnApp  NumberOfDeviceRegistered  \\\n",
              "0                   DC  Female             3.0                         3   \n",
              "1                  UPI    Male             3.0                         4   \n",
              "2                   DC    Male             2.0                         4   \n",
              "3                   DC    Male             2.0                         4   \n",
              "4                   CC    Male             3.0                         3   \n",
              "\n",
              "  PreferedOrderCat  SatisfactionScore MaritalStatus  NumberOfAddress  \\\n",
              "0           Laptop                  2        Single                9   \n",
              "1           Mobile                  3        Single                7   \n",
              "2           Mobile                  3        Single                6   \n",
              "3           Laptop                  5        Single                8   \n",
              "4           Mobile                  5        Single                3   \n",
              "\n",
              "   Complain  OrderAmountHikeFromlastYear  CouponUsed  OrderCount  \\\n",
              "0         1                         11.0         1.0         1.0   \n",
              "1         1                         15.0         0.0         1.0   \n",
              "2         1                         14.0         0.0         1.0   \n",
              "3         0                         23.0         0.0         1.0   \n",
              "4         0                         11.0         1.0         1.0   \n",
              "\n",
              "   DaySinceLastOrder  CashbackAmount  \n",
              "0                5.0          159.93  \n",
              "1                0.0          120.90  \n",
              "2                3.0          120.28  \n",
              "3                3.0          134.07  \n",
              "4                3.0          129.60  "
            ]
          },
          "execution_count": 10,
          "metadata": {},
          "output_type": "execute_result"
        }
      ],
      "source": [
        "cursor = db.ecomm_churn.find()\n",
        "\n",
        "df = pd.DataFrame(list(cursor)).drop('_id', axis=1)\n",
        "df.head()"
      ]
    },
    {
      "cell_type": "code",
      "execution_count": null,
      "metadata": {
        "colab": {
          "base_uri": "https://localhost:8080/"
        },
        "id": "s_Bj2bV04Qkd",
        "outputId": "ecd2bfc8-fbf9-4afc-ea9d-93aec3c16b66"
      },
      "outputs": [
        {
          "name": "stderr",
          "output_type": "stream",
          "text": [
            "INFO:root:Data loaded from database!\n"
          ]
        }
      ],
      "source": [
        "logger.info('Data loaded from database!')"
      ]
    },
    {
      "cell_type": "code",
      "execution_count": null,
      "metadata": {
        "colab": {
          "base_uri": "https://localhost:8080/"
        },
        "id": "EP1nu7shUwl6",
        "outputId": "a9c83cfd-20e4-48bf-928e-278291492094"
      },
      "outputs": [
        {
          "data": {
            "text/plain": [
              "(5630, 20)"
            ]
          },
          "execution_count": 12,
          "metadata": {},
          "output_type": "execute_result"
        }
      ],
      "source": [
        "df.shape"
      ]
    },
    {
      "cell_type": "markdown",
      "metadata": {
        "id": "g3KoUmxfYCf8"
      },
      "source": [
        "# **Feature Engineering**"
      ]
    },
    {
      "cell_type": "code",
      "execution_count": null,
      "metadata": {
        "colab": {
          "base_uri": "https://localhost:8080/"
        },
        "id": "F-Db0_GK5r0R",
        "outputId": "0fa2ac2f-04d0-46b8-b5c7-fff632d0fe80"
      },
      "outputs": [
        {
          "name": "stderr",
          "output_type": "stream",
          "text": [
            "INFO:root:Feature engineering starts!\n"
          ]
        }
      ],
      "source": [
        "logger.info('Feature engineering starts!')"
      ]
    },
    {
      "cell_type": "markdown",
      "metadata": {
        "id": "trr6jA7gYYDw"
      },
      "source": [
        "## **Outlier Handling**"
      ]
    },
    {
      "cell_type": "markdown",
      "metadata": {
        "id": "ZpDfVYunze-R"
      },
      "source": [
        "Most of the outliers we observed during exploration of the data seems to represent the natural variation in the population(of the respective variable). Therefore, we leave them except for a few variables like Tenure, DaySinceLastOrder, CashbackAmount and NumberOfAddress.\n",
        "\n",
        " We handle them one by one."
      ]
    },
    {
      "cell_type": "markdown",
      "metadata": {
        "id": "-FCcLHsrt_gj"
      },
      "source": [
        "**Tenure**\n",
        "\n",
        "According to the percentile distribution of 'Tenure', we observe that customers with Tenure > 21, have not churned and the 99th percentile value is 31 which means the extreme values lies after that. So lets cap at the value 31, ie, all values above 31 will be considered as 31."
      ]
    },
    {
      "cell_type": "code",
      "execution_count": null,
      "metadata": {
        "id": "LqJgJbEuv49-"
      },
      "outputs": [],
      "source": [
        "percentile = df.Tenure.quantile([0.99]).values\n",
        "df['Tenure'] = df['Tenure'].apply(lambda x : percentile[0] if x > percentile[0] else x)"
      ]
    },
    {
      "cell_type": "markdown",
      "metadata": {
        "id": "qJ5lJGe2x3rR"
      },
      "source": [
        "**DaySinceLastOrder**\n",
        "\n",
        "Similarly for DaySinceLastOrder, according to the percentile distribution, we see that values after DaySinceLastOrder=18 are extreme values [30,31,46]. The 99th percentile values is 15. So we shall cap at this position."
      ]
    },
    {
      "cell_type": "code",
      "execution_count": null,
      "metadata": {
        "id": "oJIWUpYTyTwR"
      },
      "outputs": [],
      "source": [
        "percentile = df.DaySinceLastOrder.quantile([0.99]).values\n",
        "df['DaySinceLastOrder'] = df['DaySinceLastOrder'].apply(lambda x : percentile[0] if x > percentile[0] else x)"
      ]
    },
    {
      "cell_type": "markdown",
      "metadata": {
        "id": "ZZf_jdhO0qNl"
      },
      "source": [
        "**CashbackAmount**\n",
        "Here we see that there are outliers after the upper bound and below the lower bound. We cap the values at the 1st and 99th percentile.\n"
      ]
    },
    {
      "cell_type": "code",
      "execution_count": null,
      "metadata": {
        "id": "t-b7eQyE0Cwc"
      },
      "outputs": [],
      "source": [
        "percentile = df.CashbackAmount.quantile([0.01, 0.99]).values\n",
        "df['CashbackAmount'] = df['CashbackAmount'].apply(lambda x : percentile[0] if x < percentile[0] else percentile[1] if x > percentile[1] else x)"
      ]
    },
    {
      "cell_type": "markdown",
      "metadata": {
        "id": "38dwRpWYYf4r"
      },
      "source": [
        "## **Feature selection using Statistical Test**"
      ]
    },
    {
      "cell_type": "markdown",
      "metadata": {
        "id": "Qw0HAgH6AnPD"
      },
      "source": [
        "We perform the following tests to select features that would contribute the best for our model."
      ]
    },
    {
      "cell_type": "code",
      "execution_count": null,
      "metadata": {
        "id": "bfpGdqTIYr8d"
      },
      "outputs": [],
      "source": [
        "# Function to perform statistical test on numerical variables to determine whether to reject or accept H0\n",
        "def num_stats(num_col):\n",
        "  group_0 = df[df['Churn']==0][num_col]\n",
        "  group_1 = df[df['Churn']==1][num_col]\n",
        "\n",
        "  _, p_value = stats.ttest_ind(group_0,group_1,equal_var=False)\n",
        "\n",
        "  print('P-value : ', p_value)\n",
        "  if(p_value<0.05):\n",
        "    print('Reject null hypothesis')\n",
        "  else:\n",
        "    print('Do not reject null hypotheis')"
      ]
    },
    {
      "cell_type": "code",
      "execution_count": null,
      "metadata": {
        "id": "V0bq17swwIV2"
      },
      "outputs": [],
      "source": [
        "def chisq_test(cat_col, df):\n",
        "    CrossTabResult=pd.crosstab(index=df['Churn'], columns=df[cat_col])\n",
        "    ChiSqResult = chi2_contingency(CrossTabResult)\n",
        "        \n",
        "    # If the ChiSq P-Value is <0.05, that means we reject H0\n",
        "    if (ChiSqResult[1] < 0.05):\n",
        "        print('P-Value :', ChiSqResult[1])\n",
        "        print('Reject null hypothesis')\n",
        "    else:\n",
        "        print('P-Value :', ChiSqResult[1])\n",
        "        print('Do not reject null hypotheis')        \n",
        "            "
      ]
    },
    {
      "cell_type": "code",
      "execution_count": null,
      "metadata": {
        "id": "-3D3Ybe121ys"
      },
      "outputs": [],
      "source": [
        "num_col_list = ['Tenure', 'WarehouseToHome', 'OrderAmountHikeFromlastYear', 'CouponUsed', 'OrderCount',\n",
        "                'DaySinceLastOrder', 'CashbackAmount', 'HourSpendOnApp', 'NumberOfDeviceRegistered', 'NumberOfAddress']"
      ]
    },
    {
      "cell_type": "code",
      "execution_count": null,
      "metadata": {
        "colab": {
          "base_uri": "https://localhost:8080/"
        },
        "id": "zaFzYFz-1_Hr",
        "outputId": "296bd4b4-70a3-4fd2-92cd-fac7e40168c0"
      },
      "outputs": [
        {
          "name": "stdout",
          "output_type": "stream",
          "text": [
            "Column Name :  Tenure\n",
            "P-value :  2.008277595367716e-202\n",
            "Reject null hypothesis\n",
            "---------------------------------------------\n",
            "Column Name :  WarehouseToHome\n",
            "P-value :  7.60206018025374e-09\n",
            "Reject null hypothesis\n",
            "---------------------------------------------\n",
            "Column Name :  OrderAmountHikeFromlastYear\n",
            "P-value :  0.4237779148876236\n",
            "Do not reject null hypotheis\n",
            "---------------------------------------------\n",
            "Column Name :  CouponUsed\n",
            "P-value :  0.9159384616337447\n",
            "Do not reject null hypotheis\n",
            "---------------------------------------------\n",
            "Column Name :  OrderCount\n",
            "P-value :  0.06430615371620459\n",
            "Do not reject null hypotheis\n",
            "---------------------------------------------\n",
            "Column Name :  DaySinceLastOrder\n",
            "P-value :  3.1021436368382634e-39\n",
            "Reject null hypothesis\n",
            "---------------------------------------------\n",
            "Column Name :  CashbackAmount\n",
            "P-value :  3.03484589898161e-43\n",
            "Reject null hypothesis\n",
            "---------------------------------------------\n",
            "Column Name :  HourSpendOnApp\n",
            "P-value :  0.14300103213870466\n",
            "Do not reject null hypotheis\n",
            "---------------------------------------------\n",
            "Column Name :  NumberOfDeviceRegistered\n",
            "P-value :  6.939036502330302e-16\n",
            "Reject null hypothesis\n",
            "---------------------------------------------\n",
            "Column Name :  NumberOfAddress\n",
            "P-value :  0.0019934997986827364\n",
            "Reject null hypothesis\n",
            "---------------------------------------------\n"
          ]
        }
      ],
      "source": [
        "for col in num_col_list:\n",
        "  print('Column Name : ', col)\n",
        "  num_stats(col)\n",
        "  print('---------------------------------------------')"
      ]
    },
    {
      "cell_type": "code",
      "execution_count": null,
      "metadata": {
        "id": "u3flWv-f3gTI"
      },
      "outputs": [],
      "source": [
        "cat_col_list = ['PreferredLoginDevice', 'CityTier', 'PreferredPaymentMode',\n",
        "                'PreferedOrderCat', 'SatisfactionScore', 'MaritalStatus', 'Gender', 'Complain']"
      ]
    },
    {
      "cell_type": "code",
      "execution_count": null,
      "metadata": {
        "colab": {
          "base_uri": "https://localhost:8080/"
        },
        "id": "ieFHQ2Ic4Fhc",
        "outputId": "078614c7-8802-445b-e8b3-9ead52d5f8a5"
      },
      "outputs": [
        {
          "name": "stdout",
          "output_type": "stream",
          "text": [
            "Column Name :  PreferredLoginDevice\n",
            "P-Value : 0.0001477040239947965\n",
            "Reject null hypothesis\n",
            "---------------------------------------------\n",
            "Column Name :  CityTier\n",
            "P-Value : 1.2612000812079956e-09\n",
            "Reject null hypothesis\n",
            "---------------------------------------------\n",
            "Column Name :  PreferredPaymentMode\n",
            "P-Value : 1.4978570960706217e-10\n",
            "Reject null hypothesis\n",
            "---------------------------------------------\n",
            "Column Name :  PreferedOrderCat\n",
            "P-Value : 3.11924340428766e-61\n",
            "Reject null hypothesis\n",
            "---------------------------------------------\n",
            "Column Name :  SatisfactionScore\n",
            "P-Value : 2.4233349782737515e-14\n",
            "Reject null hypothesis\n",
            "---------------------------------------------\n",
            "Column Name :  MaritalStatus\n",
            "P-Value : 1.073011277910542e-41\n",
            "Reject null hypothesis\n",
            "---------------------------------------------\n",
            "Column Name :  Gender\n",
            "P-Value : 0.030820940334890086\n",
            "Reject null hypothesis\n",
            "---------------------------------------------\n",
            "Column Name :  Complain\n",
            "P-Value : 2.6644609654641377e-78\n",
            "Reject null hypothesis\n",
            "---------------------------------------------\n"
          ]
        }
      ],
      "source": [
        "for col in cat_col_list:\n",
        "  print('Column Name : ', col)\n",
        "  chisq_test(col, df)\n",
        "  print('---------------------------------------------')"
      ]
    },
    {
      "cell_type": "markdown",
      "metadata": {
        "id": "GJOFOhDsHVOa"
      },
      "source": [
        "### **Drop unwanted columns based on the test results**"
      ]
    },
    {
      "cell_type": "code",
      "execution_count": null,
      "metadata": {
        "id": "L0hSAsscHUCJ"
      },
      "outputs": [],
      "source": [
        "df.drop(columns=['CustomerID', 'HourSpendOnApp', 'OrderAmountHikeFromlastYear', 'CouponUsed', 'OrderCount'], axis=1, inplace=True)"
      ]
    },
    {
      "cell_type": "markdown",
      "metadata": {
        "id": "Y5lcuxoVYsp7"
      },
      "source": [
        "## **Encoding Categorical Variables**"
      ]
    },
    {
      "cell_type": "code",
      "execution_count": null,
      "metadata": {
        "colab": {
          "base_uri": "https://localhost:8080/"
        },
        "id": "yqiz7P70J-pT",
        "outputId": "cc48552d-72aa-4399-e25f-6d48f2143bdc"
      },
      "outputs": [
        {
          "data": {
            "text/html": [
              "\n",
              "  <div id=\"df-11240c68-7016-4150-9985-a49c0a9295f9\">\n",
              "    <div class=\"colab-df-container\">\n",
              "      <div>\n",
              "<style scoped>\n",
              "    .dataframe tbody tr th:only-of-type {\n",
              "        vertical-align: middle;\n",
              "    }\n",
              "\n",
              "    .dataframe tbody tr th {\n",
              "        vertical-align: top;\n",
              "    }\n",
              "\n",
              "    .dataframe thead th {\n",
              "        text-align: right;\n",
              "    }\n",
              "</style>\n",
              "<table border=\"1\" class=\"dataframe\">\n",
              "  <thead>\n",
              "    <tr style=\"text-align: right;\">\n",
              "      <th></th>\n",
              "      <th>Churn</th>\n",
              "      <th>Tenure</th>\n",
              "      <th>WarehouseToHome</th>\n",
              "      <th>NumberOfDeviceRegistered</th>\n",
              "      <th>NumberOfAddress</th>\n",
              "      <th>DaySinceLastOrder</th>\n",
              "      <th>CashbackAmount</th>\n",
              "      <th>PreferredLoginDevice_Computer</th>\n",
              "      <th>PreferredLoginDevice_Mobile</th>\n",
              "      <th>CityTier_1</th>\n",
              "      <th>...</th>\n",
              "      <th>SatisfactionScore_3</th>\n",
              "      <th>SatisfactionScore_4</th>\n",
              "      <th>SatisfactionScore_5</th>\n",
              "      <th>MaritalStatus_Divorced</th>\n",
              "      <th>MaritalStatus_Married</th>\n",
              "      <th>MaritalStatus_Single</th>\n",
              "      <th>Gender_Female</th>\n",
              "      <th>Gender_Male</th>\n",
              "      <th>Complain_0</th>\n",
              "      <th>Complain_1</th>\n",
              "    </tr>\n",
              "  </thead>\n",
              "  <tbody>\n",
              "    <tr>\n",
              "      <th>0</th>\n",
              "      <td>1</td>\n",
              "      <td>4.0</td>\n",
              "      <td>6.0</td>\n",
              "      <td>3</td>\n",
              "      <td>9</td>\n",
              "      <td>5.0</td>\n",
              "      <td>159.93</td>\n",
              "      <td>0</td>\n",
              "      <td>1</td>\n",
              "      <td>0</td>\n",
              "      <td>...</td>\n",
              "      <td>0</td>\n",
              "      <td>0</td>\n",
              "      <td>0</td>\n",
              "      <td>0</td>\n",
              "      <td>0</td>\n",
              "      <td>1</td>\n",
              "      <td>1</td>\n",
              "      <td>0</td>\n",
              "      <td>0</td>\n",
              "      <td>1</td>\n",
              "    </tr>\n",
              "    <tr>\n",
              "      <th>1</th>\n",
              "      <td>1</td>\n",
              "      <td>10.0</td>\n",
              "      <td>8.0</td>\n",
              "      <td>4</td>\n",
              "      <td>7</td>\n",
              "      <td>0.0</td>\n",
              "      <td>120.90</td>\n",
              "      <td>0</td>\n",
              "      <td>1</td>\n",
              "      <td>1</td>\n",
              "      <td>...</td>\n",
              "      <td>1</td>\n",
              "      <td>0</td>\n",
              "      <td>0</td>\n",
              "      <td>0</td>\n",
              "      <td>0</td>\n",
              "      <td>1</td>\n",
              "      <td>0</td>\n",
              "      <td>1</td>\n",
              "      <td>0</td>\n",
              "      <td>1</td>\n",
              "    </tr>\n",
              "    <tr>\n",
              "      <th>2</th>\n",
              "      <td>1</td>\n",
              "      <td>10.0</td>\n",
              "      <td>30.0</td>\n",
              "      <td>4</td>\n",
              "      <td>6</td>\n",
              "      <td>3.0</td>\n",
              "      <td>120.28</td>\n",
              "      <td>0</td>\n",
              "      <td>1</td>\n",
              "      <td>1</td>\n",
              "      <td>...</td>\n",
              "      <td>1</td>\n",
              "      <td>0</td>\n",
              "      <td>0</td>\n",
              "      <td>0</td>\n",
              "      <td>0</td>\n",
              "      <td>1</td>\n",
              "      <td>0</td>\n",
              "      <td>1</td>\n",
              "      <td>0</td>\n",
              "      <td>1</td>\n",
              "    </tr>\n",
              "    <tr>\n",
              "      <th>3</th>\n",
              "      <td>1</td>\n",
              "      <td>0.0</td>\n",
              "      <td>15.0</td>\n",
              "      <td>4</td>\n",
              "      <td>8</td>\n",
              "      <td>3.0</td>\n",
              "      <td>134.07</td>\n",
              "      <td>0</td>\n",
              "      <td>1</td>\n",
              "      <td>0</td>\n",
              "      <td>...</td>\n",
              "      <td>0</td>\n",
              "      <td>0</td>\n",
              "      <td>1</td>\n",
              "      <td>0</td>\n",
              "      <td>0</td>\n",
              "      <td>1</td>\n",
              "      <td>0</td>\n",
              "      <td>1</td>\n",
              "      <td>1</td>\n",
              "      <td>0</td>\n",
              "    </tr>\n",
              "    <tr>\n",
              "      <th>4</th>\n",
              "      <td>1</td>\n",
              "      <td>0.0</td>\n",
              "      <td>12.0</td>\n",
              "      <td>3</td>\n",
              "      <td>3</td>\n",
              "      <td>3.0</td>\n",
              "      <td>129.60</td>\n",
              "      <td>0</td>\n",
              "      <td>1</td>\n",
              "      <td>1</td>\n",
              "      <td>...</td>\n",
              "      <td>0</td>\n",
              "      <td>0</td>\n",
              "      <td>1</td>\n",
              "      <td>0</td>\n",
              "      <td>0</td>\n",
              "      <td>1</td>\n",
              "      <td>0</td>\n",
              "      <td>1</td>\n",
              "      <td>1</td>\n",
              "      <td>0</td>\n",
              "    </tr>\n",
              "  </tbody>\n",
              "</table>\n",
              "<p>5 rows × 34 columns</p>\n",
              "</div>\n",
              "      <button class=\"colab-df-convert\" onclick=\"convertToInteractive('df-11240c68-7016-4150-9985-a49c0a9295f9')\"\n",
              "              title=\"Convert this dataframe to an interactive table.\"\n",
              "              style=\"display:none;\">\n",
              "        \n",
              "  <svg xmlns=\"http://www.w3.org/2000/svg\" height=\"24px\"viewBox=\"0 0 24 24\"\n",
              "       width=\"24px\">\n",
              "    <path d=\"M0 0h24v24H0V0z\" fill=\"none\"/>\n",
              "    <path d=\"M18.56 5.44l.94 2.06.94-2.06 2.06-.94-2.06-.94-.94-2.06-.94 2.06-2.06.94zm-11 1L8.5 8.5l.94-2.06 2.06-.94-2.06-.94L8.5 2.5l-.94 2.06-2.06.94zm10 10l.94 2.06.94-2.06 2.06-.94-2.06-.94-.94-2.06-.94 2.06-2.06.94z\"/><path d=\"M17.41 7.96l-1.37-1.37c-.4-.4-.92-.59-1.43-.59-.52 0-1.04.2-1.43.59L10.3 9.45l-7.72 7.72c-.78.78-.78 2.05 0 2.83L4 21.41c.39.39.9.59 1.41.59.51 0 1.02-.2 1.41-.59l7.78-7.78 2.81-2.81c.8-.78.8-2.07 0-2.86zM5.41 20L4 18.59l7.72-7.72 1.47 1.35L5.41 20z\"/>\n",
              "  </svg>\n",
              "      </button>\n",
              "      \n",
              "  <style>\n",
              "    .colab-df-container {\n",
              "      display:flex;\n",
              "      flex-wrap:wrap;\n",
              "      gap: 12px;\n",
              "    }\n",
              "\n",
              "    .colab-df-convert {\n",
              "      background-color: #E8F0FE;\n",
              "      border: none;\n",
              "      border-radius: 50%;\n",
              "      cursor: pointer;\n",
              "      display: none;\n",
              "      fill: #1967D2;\n",
              "      height: 32px;\n",
              "      padding: 0 0 0 0;\n",
              "      width: 32px;\n",
              "    }\n",
              "\n",
              "    .colab-df-convert:hover {\n",
              "      background-color: #E2EBFA;\n",
              "      box-shadow: 0px 1px 2px rgba(60, 64, 67, 0.3), 0px 1px 3px 1px rgba(60, 64, 67, 0.15);\n",
              "      fill: #174EA6;\n",
              "    }\n",
              "\n",
              "    [theme=dark] .colab-df-convert {\n",
              "      background-color: #3B4455;\n",
              "      fill: #D2E3FC;\n",
              "    }\n",
              "\n",
              "    [theme=dark] .colab-df-convert:hover {\n",
              "      background-color: #434B5C;\n",
              "      box-shadow: 0px 1px 3px 1px rgba(0, 0, 0, 0.15);\n",
              "      filter: drop-shadow(0px 1px 2px rgba(0, 0, 0, 0.3));\n",
              "      fill: #FFFFFF;\n",
              "    }\n",
              "  </style>\n",
              "\n",
              "      <script>\n",
              "        const buttonEl =\n",
              "          document.querySelector('#df-11240c68-7016-4150-9985-a49c0a9295f9 button.colab-df-convert');\n",
              "        buttonEl.style.display =\n",
              "          google.colab.kernel.accessAllowed ? 'block' : 'none';\n",
              "\n",
              "        async function convertToInteractive(key) {\n",
              "          const element = document.querySelector('#df-11240c68-7016-4150-9985-a49c0a9295f9');\n",
              "          const dataTable =\n",
              "            await google.colab.kernel.invokeFunction('convertToInteractive',\n",
              "                                                     [key], {});\n",
              "          if (!dataTable) return;\n",
              "\n",
              "          const docLinkHtml = 'Like what you see? Visit the ' +\n",
              "            '<a target=\"_blank\" href=https://colab.research.google.com/notebooks/data_table.ipynb>data table notebook</a>'\n",
              "            + ' to learn more about interactive tables.';\n",
              "          element.innerHTML = '';\n",
              "          dataTable['output_type'] = 'display_data';\n",
              "          await google.colab.output.renderOutput(dataTable, element);\n",
              "          const docLink = document.createElement('div');\n",
              "          docLink.innerHTML = docLinkHtml;\n",
              "          element.appendChild(docLink);\n",
              "        }\n",
              "      </script>\n",
              "    </div>\n",
              "  </div>\n",
              "  "
            ],
            "text/plain": [
              "   Churn  Tenure  WarehouseToHome  NumberOfDeviceRegistered  NumberOfAddress  \\\n",
              "0      1     4.0              6.0                         3                9   \n",
              "1      1    10.0              8.0                         4                7   \n",
              "2      1    10.0             30.0                         4                6   \n",
              "3      1     0.0             15.0                         4                8   \n",
              "4      1     0.0             12.0                         3                3   \n",
              "\n",
              "   DaySinceLastOrder  CashbackAmount  PreferredLoginDevice_Computer  \\\n",
              "0                5.0          159.93                              0   \n",
              "1                0.0          120.90                              0   \n",
              "2                3.0          120.28                              0   \n",
              "3                3.0          134.07                              0   \n",
              "4                3.0          129.60                              0   \n",
              "\n",
              "   PreferredLoginDevice_Mobile  CityTier_1  ...  SatisfactionScore_3  \\\n",
              "0                            1           0  ...                    0   \n",
              "1                            1           1  ...                    1   \n",
              "2                            1           1  ...                    1   \n",
              "3                            1           0  ...                    0   \n",
              "4                            1           1  ...                    0   \n",
              "\n",
              "   SatisfactionScore_4  SatisfactionScore_5  MaritalStatus_Divorced  \\\n",
              "0                    0                    0                       0   \n",
              "1                    0                    0                       0   \n",
              "2                    0                    0                       0   \n",
              "3                    0                    1                       0   \n",
              "4                    0                    1                       0   \n",
              "\n",
              "   MaritalStatus_Married  MaritalStatus_Single  Gender_Female  Gender_Male  \\\n",
              "0                      0                     1              1            0   \n",
              "1                      0                     1              0            1   \n",
              "2                      0                     1              0            1   \n",
              "3                      0                     1              0            1   \n",
              "4                      0                     1              0            1   \n",
              "\n",
              "   Complain_0  Complain_1  \n",
              "0           0           1  \n",
              "1           0           1  \n",
              "2           0           1  \n",
              "3           1           0  \n",
              "4           1           0  \n",
              "\n",
              "[5 rows x 34 columns]"
            ]
          },
          "execution_count": 24,
          "metadata": {},
          "output_type": "execute_result"
        }
      ],
      "source": [
        "df_encoded = pd.get_dummies(df,columns=cat_col_list)\n",
        "df_encoded.head()"
      ]
    },
    {
      "cell_type": "code",
      "execution_count": null,
      "metadata": {
        "colab": {
          "base_uri": "https://localhost:8080/"
        },
        "id": "Yy7IEokh5AmQ",
        "outputId": "6517cd05-ab8b-4f23-a90a-cf915864a985"
      },
      "outputs": [
        {
          "name": "stderr",
          "output_type": "stream",
          "text": [
            "INFO:root:Feature Engineering ends!\n"
          ]
        }
      ],
      "source": [
        "logger.info('Feature Engineering ends!')"
      ]
    },
    {
      "cell_type": "markdown",
      "metadata": {
        "id": "vcZ8RN_MzCj2"
      },
      "source": [
        "# **Save the data in database**"
      ]
    },
    {
      "cell_type": "code",
      "execution_count": null,
      "metadata": {
        "id": "XEaVR6A2zRC1"
      },
      "outputs": [],
      "source": [
        "mydb = client.CHURN"
      ]
    },
    {
      "cell_type": "code",
      "execution_count": null,
      "metadata": {
        "colab": {
          "base_uri": "https://localhost:8080/"
        },
        "id": "TfhZ2cajzd6j",
        "outputId": "906a683b-e709-4042-d5bf-2bffcb0f9c5c"
      },
      "outputs": [
        {
          "data": {
            "text/plain": [
              "<pymongo.results.InsertManyResult at 0x7f68ac9a94f0>"
            ]
          },
          "execution_count": 27,
          "metadata": {},
          "output_type": "execute_result"
        }
      ],
      "source": [
        "# Creating collection/table 'ecomm_churn_encoded' in CHURN database\n",
        "mytb1 = mydb.ecomm_churn_encoded\n",
        "\n",
        "# Convert df_encoded to dictionary\n",
        "data = df_encoded.to_dict(orient='records') \n",
        "\n",
        "# Insert 'data' to ecomm_churn\n",
        "mytb1.insert_many(data)"
      ]
    },
    {
      "cell_type": "code",
      "execution_count": null,
      "metadata": {
        "colab": {
          "base_uri": "https://localhost:8080/"
        },
        "id": "ZXKGQrpw0abR",
        "outputId": "6332e812-4e96-4c6d-f1ac-22da9a6e59b0"
      },
      "outputs": [
        {
          "name": "stderr",
          "output_type": "stream",
          "text": [
            "INFO:root:Modified data saved in database!\n",
            "INFO:root:FILE ENDS RUNNING!\n"
          ]
        }
      ],
      "source": [
        "logger.info('Modified data saved in database!')\n",
        "logger.info('FILE ENDS RUNNING!')"
      ]
    }
  ],
  "metadata": {
    "colab": {
      "provenance": []
    },
    "kernelspec": {
      "display_name": "Python 3",
      "name": "python3"
    },
    "language_info": {
      "name": "python"
    }
  },
  "nbformat": 4,
  "nbformat_minor": 0
}
