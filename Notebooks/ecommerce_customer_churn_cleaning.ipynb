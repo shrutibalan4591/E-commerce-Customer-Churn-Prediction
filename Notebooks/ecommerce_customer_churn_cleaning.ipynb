{
  "cells": [
    {
      "cell_type": "markdown",
      "metadata": {
        "id": "dLDVimbtyQpy"
      },
      "source": [
        "# **Import Libraries and dataset**"
      ]
    },
    {
      "cell_type": "code",
      "execution_count": null,
      "metadata": {
        "colab": {
          "base_uri": "https://localhost:8080/"
        },
        "id": "cA7S5m93w9xL",
        "outputId": "d1c87ffd-89fa-4b06-b1d5-66764126805f"
      },
      "outputs": [
        {
          "name": "stdout",
          "output_type": "stream",
          "text": [
            "/content\n",
            "Warning: Your Kaggle API key is readable by other users on this system! To fix this, you can run 'chmod 600 /content/kaggle.json'\n",
            "Downloading ecommerce-customer-churn-analysis-and-prediction.zip to /content\n",
            "  0% 0.00/532k [00:00<?, ?B/s]\n",
            "100% 532k/532k [00:00<00:00, 28.8MB/s]\n",
            "Archive:  ecommerce-customer-churn-analysis-and-prediction.zip\n",
            "  inflating: E Commerce Dataset.xlsx  \n"
          ]
        }
      ],
      "source": [
        "import os\n",
        "os.environ['KAGGLE_CONFIG_DIR'] = \"/content\"\n",
        "%cd /content\n",
        "!kaggle datasets download -d ankitverma2010/ecommerce-customer-churn-analysis-and-prediction\n",
        "!unzip \\*.zip  && rm *.zip"
      ]
    },
    {
      "cell_type": "code",
      "execution_count": null,
      "metadata": {
        "colab": {
          "base_uri": "https://localhost:8080/"
        },
        "id": "0UjweVMKM_xX",
        "outputId": "b427d263-194c-4848-829e-a346b63bc6c5"
      },
      "outputs": [
        {
          "name": "stderr",
          "output_type": "stream",
          "text": [
            "INFO:root:FILE STARTS RUNNING!\n"
          ]
        }
      ],
      "source": [
        "import logging\n",
        "\n",
        "logger = logging.getLogger()\n",
        "\n",
        "file_handler = logging.FileHandler(filename='ecc_dc_log.log', mode='w')\n",
        "formatter = logging.Formatter('%(asctime)s - %(name)s - %(levelname)s - %(message)s')\n",
        "file_handler.setFormatter(formatter)\n",
        "logger.addHandler(file_handler)\n",
        "\n",
        "logger.setLevel(logging.DEBUG)\n",
        "logger.info('FILE STARTS RUNNING!')"
      ]
    },
    {
      "cell_type": "code",
      "execution_count": null,
      "metadata": {
        "colab": {
          "base_uri": "https://localhost:8080/"
        },
        "id": "hLLfPOjsxCUX",
        "outputId": "162aa64f-ea68-4c9e-dc8f-8bfd27ff953d"
      },
      "outputs": [
        {
          "name": "stderr",
          "output_type": "stream",
          "text": [
            "INFO:numexpr.utils:NumExpr defaulting to 2 threads.\n"
          ]
        }
      ],
      "source": [
        "import pandas as pd\n",
        "import numpy as np"
      ]
    },
    {
      "cell_type": "code",
      "execution_count": null,
      "metadata": {
        "colab": {
          "base_uri": "https://localhost:8080/"
        },
        "id": "YP2bdhntNSO_",
        "outputId": "9a860284-4c2c-4153-89db-b764482a5645"
      },
      "outputs": [
        {
          "name": "stderr",
          "output_type": "stream",
          "text": [
            "INFO:root:Libraries imported.\n"
          ]
        }
      ],
      "source": [
        "logger.info('Libraries imported.')"
      ]
    },
    {
      "cell_type": "code",
      "execution_count": null,
      "metadata": {
        "colab": {
          "base_uri": "https://localhost:8080/"
        },
        "id": "fTt9ixzVygoP",
        "outputId": "9bc2f68d-dc38-456a-9111-493559e4272a"
      },
      "outputs": [
        {
          "data": {
            "text/html": [
              "\n",
              "  <div id=\"df-d41a0f0e-dd72-480f-ab33-d033cbd7de18\">\n",
              "    <div class=\"colab-df-container\">\n",
              "      <div>\n",
              "<style scoped>\n",
              "    .dataframe tbody tr th:only-of-type {\n",
              "        vertical-align: middle;\n",
              "    }\n",
              "\n",
              "    .dataframe tbody tr th {\n",
              "        vertical-align: top;\n",
              "    }\n",
              "\n",
              "    .dataframe thead th {\n",
              "        text-align: right;\n",
              "    }\n",
              "</style>\n",
              "<table border=\"1\" class=\"dataframe\">\n",
              "  <thead>\n",
              "    <tr style=\"text-align: right;\">\n",
              "      <th></th>\n",
              "      <th>CustomerID</th>\n",
              "      <th>Churn</th>\n",
              "      <th>Tenure</th>\n",
              "      <th>PreferredLoginDevice</th>\n",
              "      <th>CityTier</th>\n",
              "      <th>WarehouseToHome</th>\n",
              "      <th>PreferredPaymentMode</th>\n",
              "      <th>Gender</th>\n",
              "      <th>HourSpendOnApp</th>\n",
              "      <th>NumberOfDeviceRegistered</th>\n",
              "      <th>PreferedOrderCat</th>\n",
              "      <th>SatisfactionScore</th>\n",
              "      <th>MaritalStatus</th>\n",
              "      <th>NumberOfAddress</th>\n",
              "      <th>Complain</th>\n",
              "      <th>OrderAmountHikeFromlastYear</th>\n",
              "      <th>CouponUsed</th>\n",
              "      <th>OrderCount</th>\n",
              "      <th>DaySinceLastOrder</th>\n",
              "      <th>CashbackAmount</th>\n",
              "    </tr>\n",
              "  </thead>\n",
              "  <tbody>\n",
              "    <tr>\n",
              "      <th>0</th>\n",
              "      <td>50001</td>\n",
              "      <td>1</td>\n",
              "      <td>4.0</td>\n",
              "      <td>Mobile Phone</td>\n",
              "      <td>3</td>\n",
              "      <td>6.0</td>\n",
              "      <td>Debit Card</td>\n",
              "      <td>Female</td>\n",
              "      <td>3.0</td>\n",
              "      <td>3</td>\n",
              "      <td>Laptop &amp; Accessory</td>\n",
              "      <td>2</td>\n",
              "      <td>Single</td>\n",
              "      <td>9</td>\n",
              "      <td>1</td>\n",
              "      <td>11.0</td>\n",
              "      <td>1.0</td>\n",
              "      <td>1.0</td>\n",
              "      <td>5.0</td>\n",
              "      <td>159.93</td>\n",
              "    </tr>\n",
              "    <tr>\n",
              "      <th>1</th>\n",
              "      <td>50002</td>\n",
              "      <td>1</td>\n",
              "      <td>NaN</td>\n",
              "      <td>Phone</td>\n",
              "      <td>1</td>\n",
              "      <td>8.0</td>\n",
              "      <td>UPI</td>\n",
              "      <td>Male</td>\n",
              "      <td>3.0</td>\n",
              "      <td>4</td>\n",
              "      <td>Mobile</td>\n",
              "      <td>3</td>\n",
              "      <td>Single</td>\n",
              "      <td>7</td>\n",
              "      <td>1</td>\n",
              "      <td>15.0</td>\n",
              "      <td>0.0</td>\n",
              "      <td>1.0</td>\n",
              "      <td>0.0</td>\n",
              "      <td>120.90</td>\n",
              "    </tr>\n",
              "    <tr>\n",
              "      <th>2</th>\n",
              "      <td>50003</td>\n",
              "      <td>1</td>\n",
              "      <td>NaN</td>\n",
              "      <td>Phone</td>\n",
              "      <td>1</td>\n",
              "      <td>30.0</td>\n",
              "      <td>Debit Card</td>\n",
              "      <td>Male</td>\n",
              "      <td>2.0</td>\n",
              "      <td>4</td>\n",
              "      <td>Mobile</td>\n",
              "      <td>3</td>\n",
              "      <td>Single</td>\n",
              "      <td>6</td>\n",
              "      <td>1</td>\n",
              "      <td>14.0</td>\n",
              "      <td>0.0</td>\n",
              "      <td>1.0</td>\n",
              "      <td>3.0</td>\n",
              "      <td>120.28</td>\n",
              "    </tr>\n",
              "    <tr>\n",
              "      <th>3</th>\n",
              "      <td>50004</td>\n",
              "      <td>1</td>\n",
              "      <td>0.0</td>\n",
              "      <td>Phone</td>\n",
              "      <td>3</td>\n",
              "      <td>15.0</td>\n",
              "      <td>Debit Card</td>\n",
              "      <td>Male</td>\n",
              "      <td>2.0</td>\n",
              "      <td>4</td>\n",
              "      <td>Laptop &amp; Accessory</td>\n",
              "      <td>5</td>\n",
              "      <td>Single</td>\n",
              "      <td>8</td>\n",
              "      <td>0</td>\n",
              "      <td>23.0</td>\n",
              "      <td>0.0</td>\n",
              "      <td>1.0</td>\n",
              "      <td>3.0</td>\n",
              "      <td>134.07</td>\n",
              "    </tr>\n",
              "    <tr>\n",
              "      <th>4</th>\n",
              "      <td>50005</td>\n",
              "      <td>1</td>\n",
              "      <td>0.0</td>\n",
              "      <td>Phone</td>\n",
              "      <td>1</td>\n",
              "      <td>12.0</td>\n",
              "      <td>CC</td>\n",
              "      <td>Male</td>\n",
              "      <td>NaN</td>\n",
              "      <td>3</td>\n",
              "      <td>Mobile</td>\n",
              "      <td>5</td>\n",
              "      <td>Single</td>\n",
              "      <td>3</td>\n",
              "      <td>0</td>\n",
              "      <td>11.0</td>\n",
              "      <td>1.0</td>\n",
              "      <td>1.0</td>\n",
              "      <td>3.0</td>\n",
              "      <td>129.60</td>\n",
              "    </tr>\n",
              "  </tbody>\n",
              "</table>\n",
              "</div>\n",
              "      <button class=\"colab-df-convert\" onclick=\"convertToInteractive('df-d41a0f0e-dd72-480f-ab33-d033cbd7de18')\"\n",
              "              title=\"Convert this dataframe to an interactive table.\"\n",
              "              style=\"display:none;\">\n",
              "        \n",
              "  <svg xmlns=\"http://www.w3.org/2000/svg\" height=\"24px\"viewBox=\"0 0 24 24\"\n",
              "       width=\"24px\">\n",
              "    <path d=\"M0 0h24v24H0V0z\" fill=\"none\"/>\n",
              "    <path d=\"M18.56 5.44l.94 2.06.94-2.06 2.06-.94-2.06-.94-.94-2.06-.94 2.06-2.06.94zm-11 1L8.5 8.5l.94-2.06 2.06-.94-2.06-.94L8.5 2.5l-.94 2.06-2.06.94zm10 10l.94 2.06.94-2.06 2.06-.94-2.06-.94-.94-2.06-.94 2.06-2.06.94z\"/><path d=\"M17.41 7.96l-1.37-1.37c-.4-.4-.92-.59-1.43-.59-.52 0-1.04.2-1.43.59L10.3 9.45l-7.72 7.72c-.78.78-.78 2.05 0 2.83L4 21.41c.39.39.9.59 1.41.59.51 0 1.02-.2 1.41-.59l7.78-7.78 2.81-2.81c.8-.78.8-2.07 0-2.86zM5.41 20L4 18.59l7.72-7.72 1.47 1.35L5.41 20z\"/>\n",
              "  </svg>\n",
              "      </button>\n",
              "      \n",
              "  <style>\n",
              "    .colab-df-container {\n",
              "      display:flex;\n",
              "      flex-wrap:wrap;\n",
              "      gap: 12px;\n",
              "    }\n",
              "\n",
              "    .colab-df-convert {\n",
              "      background-color: #E8F0FE;\n",
              "      border: none;\n",
              "      border-radius: 50%;\n",
              "      cursor: pointer;\n",
              "      display: none;\n",
              "      fill: #1967D2;\n",
              "      height: 32px;\n",
              "      padding: 0 0 0 0;\n",
              "      width: 32px;\n",
              "    }\n",
              "\n",
              "    .colab-df-convert:hover {\n",
              "      background-color: #E2EBFA;\n",
              "      box-shadow: 0px 1px 2px rgba(60, 64, 67, 0.3), 0px 1px 3px 1px rgba(60, 64, 67, 0.15);\n",
              "      fill: #174EA6;\n",
              "    }\n",
              "\n",
              "    [theme=dark] .colab-df-convert {\n",
              "      background-color: #3B4455;\n",
              "      fill: #D2E3FC;\n",
              "    }\n",
              "\n",
              "    [theme=dark] .colab-df-convert:hover {\n",
              "      background-color: #434B5C;\n",
              "      box-shadow: 0px 1px 3px 1px rgba(0, 0, 0, 0.15);\n",
              "      filter: drop-shadow(0px 1px 2px rgba(0, 0, 0, 0.3));\n",
              "      fill: #FFFFFF;\n",
              "    }\n",
              "  </style>\n",
              "\n",
              "      <script>\n",
              "        const buttonEl =\n",
              "          document.querySelector('#df-d41a0f0e-dd72-480f-ab33-d033cbd7de18 button.colab-df-convert');\n",
              "        buttonEl.style.display =\n",
              "          google.colab.kernel.accessAllowed ? 'block' : 'none';\n",
              "\n",
              "        async function convertToInteractive(key) {\n",
              "          const element = document.querySelector('#df-d41a0f0e-dd72-480f-ab33-d033cbd7de18');\n",
              "          const dataTable =\n",
              "            await google.colab.kernel.invokeFunction('convertToInteractive',\n",
              "                                                     [key], {});\n",
              "          if (!dataTable) return;\n",
              "\n",
              "          const docLinkHtml = 'Like what you see? Visit the ' +\n",
              "            '<a target=\"_blank\" href=https://colab.research.google.com/notebooks/data_table.ipynb>data table notebook</a>'\n",
              "            + ' to learn more about interactive tables.';\n",
              "          element.innerHTML = '';\n",
              "          dataTable['output_type'] = 'display_data';\n",
              "          await google.colab.output.renderOutput(dataTable, element);\n",
              "          const docLink = document.createElement('div');\n",
              "          docLink.innerHTML = docLinkHtml;\n",
              "          element.appendChild(docLink);\n",
              "        }\n",
              "      </script>\n",
              "    </div>\n",
              "  </div>\n",
              "  "
            ],
            "text/plain": [
              "   CustomerID  Churn  Tenure PreferredLoginDevice  CityTier  WarehouseToHome  \\\n",
              "0       50001      1     4.0         Mobile Phone         3              6.0   \n",
              "1       50002      1     NaN                Phone         1              8.0   \n",
              "2       50003      1     NaN                Phone         1             30.0   \n",
              "3       50004      1     0.0                Phone         3             15.0   \n",
              "4       50005      1     0.0                Phone         1             12.0   \n",
              "\n",
              "  PreferredPaymentMode  Gender  HourSpendOnApp  NumberOfDeviceRegistered  \\\n",
              "0           Debit Card  Female             3.0                         3   \n",
              "1                  UPI    Male             3.0                         4   \n",
              "2           Debit Card    Male             2.0                         4   \n",
              "3           Debit Card    Male             2.0                         4   \n",
              "4                   CC    Male             NaN                         3   \n",
              "\n",
              "     PreferedOrderCat  SatisfactionScore MaritalStatus  NumberOfAddress  \\\n",
              "0  Laptop & Accessory                  2        Single                9   \n",
              "1              Mobile                  3        Single                7   \n",
              "2              Mobile                  3        Single                6   \n",
              "3  Laptop & Accessory                  5        Single                8   \n",
              "4              Mobile                  5        Single                3   \n",
              "\n",
              "   Complain  OrderAmountHikeFromlastYear  CouponUsed  OrderCount  \\\n",
              "0         1                         11.0         1.0         1.0   \n",
              "1         1                         15.0         0.0         1.0   \n",
              "2         1                         14.0         0.0         1.0   \n",
              "3         0                         23.0         0.0         1.0   \n",
              "4         0                         11.0         1.0         1.0   \n",
              "\n",
              "   DaySinceLastOrder  CashbackAmount  \n",
              "0                5.0          159.93  \n",
              "1                0.0          120.90  \n",
              "2                3.0          120.28  \n",
              "3                3.0          134.07  \n",
              "4                3.0          129.60  "
            ]
          },
          "execution_count": 5,
          "metadata": {},
          "output_type": "execute_result"
        }
      ],
      "source": [
        "# Reading dataset to a dataframe\n",
        "df = pd.read_excel('/content/E Commerce Dataset.xlsx', sheet_name='E Comm')\n",
        "df.head()"
      ]
    },
    {
      "cell_type": "code",
      "execution_count": null,
      "metadata": {
        "colab": {
          "base_uri": "https://localhost:8080/"
        },
        "id": "EqgpiSu5Nd32",
        "outputId": "dfb48733-e5d7-4ecd-b05e-ef930a3fba2e"
      },
      "outputs": [
        {
          "name": "stderr",
          "output_type": "stream",
          "text": [
            "INFO:root:Data loaded.\n"
          ]
        }
      ],
      "source": [
        "logger.info('Data loaded.')"
      ]
    },
    {
      "cell_type": "code",
      "execution_count": null,
      "metadata": {
        "colab": {
          "base_uri": "https://localhost:8080/"
        },
        "id": "FDE1WrP2yp9w",
        "outputId": "151288c6-bc7f-4435-c7fe-cad8fbac69c6"
      },
      "outputs": [
        {
          "data": {
            "text/html": [
              "\n",
              "  <div id=\"df-d7e61945-249a-48f3-a8ac-3fae7132a083\">\n",
              "    <div class=\"colab-df-container\">\n",
              "      <div>\n",
              "<style scoped>\n",
              "    .dataframe tbody tr th:only-of-type {\n",
              "        vertical-align: middle;\n",
              "    }\n",
              "\n",
              "    .dataframe tbody tr th {\n",
              "        vertical-align: top;\n",
              "    }\n",
              "\n",
              "    .dataframe thead th {\n",
              "        text-align: right;\n",
              "    }\n",
              "</style>\n",
              "<table border=\"1\" class=\"dataframe\">\n",
              "  <thead>\n",
              "    <tr style=\"text-align: right;\">\n",
              "      <th></th>\n",
              "      <th>Unnamed: 2</th>\n",
              "      <th>Unnamed: 3</th>\n",
              "    </tr>\n",
              "  </thead>\n",
              "  <tbody>\n",
              "    <tr>\n",
              "      <th>0</th>\n",
              "      <td>Variable</td>\n",
              "      <td>Discerption</td>\n",
              "    </tr>\n",
              "    <tr>\n",
              "      <th>1</th>\n",
              "      <td>CustomerID</td>\n",
              "      <td>Unique customer ID</td>\n",
              "    </tr>\n",
              "    <tr>\n",
              "      <th>2</th>\n",
              "      <td>Churn</td>\n",
              "      <td>Churn Flag</td>\n",
              "    </tr>\n",
              "    <tr>\n",
              "      <th>3</th>\n",
              "      <td>Tenure</td>\n",
              "      <td>Tenure of customer in organization</td>\n",
              "    </tr>\n",
              "    <tr>\n",
              "      <th>4</th>\n",
              "      <td>PreferredLoginDevice</td>\n",
              "      <td>Preferred login device of customer</td>\n",
              "    </tr>\n",
              "    <tr>\n",
              "      <th>5</th>\n",
              "      <td>CityTier</td>\n",
              "      <td>City tier</td>\n",
              "    </tr>\n",
              "    <tr>\n",
              "      <th>6</th>\n",
              "      <td>WarehouseToHome</td>\n",
              "      <td>Distance in between warehouse to home of customer</td>\n",
              "    </tr>\n",
              "    <tr>\n",
              "      <th>7</th>\n",
              "      <td>PreferredPaymentMode</td>\n",
              "      <td>Preferred payment method of customer</td>\n",
              "    </tr>\n",
              "    <tr>\n",
              "      <th>8</th>\n",
              "      <td>Gender</td>\n",
              "      <td>Gender of customer</td>\n",
              "    </tr>\n",
              "    <tr>\n",
              "      <th>9</th>\n",
              "      <td>HourSpendOnApp</td>\n",
              "      <td>Number of hours spend on mobile application or...</td>\n",
              "    </tr>\n",
              "    <tr>\n",
              "      <th>10</th>\n",
              "      <td>NumberOfDeviceRegistered</td>\n",
              "      <td>Total number of deceives is registered on part...</td>\n",
              "    </tr>\n",
              "    <tr>\n",
              "      <th>11</th>\n",
              "      <td>PreferedOrderCat</td>\n",
              "      <td>Preferred order category of customer in last m...</td>\n",
              "    </tr>\n",
              "    <tr>\n",
              "      <th>12</th>\n",
              "      <td>SatisfactionScore</td>\n",
              "      <td>Satisfactory score of customer on service</td>\n",
              "    </tr>\n",
              "    <tr>\n",
              "      <th>13</th>\n",
              "      <td>MaritalStatus</td>\n",
              "      <td>Marital status of customer</td>\n",
              "    </tr>\n",
              "    <tr>\n",
              "      <th>14</th>\n",
              "      <td>NumberOfAddress</td>\n",
              "      <td>Total number of added added on particular cust...</td>\n",
              "    </tr>\n",
              "    <tr>\n",
              "      <th>15</th>\n",
              "      <td>Complain</td>\n",
              "      <td>Any complaint has been raised in last month</td>\n",
              "    </tr>\n",
              "    <tr>\n",
              "      <th>16</th>\n",
              "      <td>OrderAmountHikeFromlastYear</td>\n",
              "      <td>Percentage increases in order from last year</td>\n",
              "    </tr>\n",
              "    <tr>\n",
              "      <th>17</th>\n",
              "      <td>CouponUsed</td>\n",
              "      <td>Total number of coupon has been used in last m...</td>\n",
              "    </tr>\n",
              "    <tr>\n",
              "      <th>18</th>\n",
              "      <td>OrderCount</td>\n",
              "      <td>Total number of orders has been places in last...</td>\n",
              "    </tr>\n",
              "    <tr>\n",
              "      <th>19</th>\n",
              "      <td>DaySinceLastOrder</td>\n",
              "      <td>Day Since last order by customer</td>\n",
              "    </tr>\n",
              "    <tr>\n",
              "      <th>20</th>\n",
              "      <td>CashbackAmount</td>\n",
              "      <td>Average cashback in last month</td>\n",
              "    </tr>\n",
              "  </tbody>\n",
              "</table>\n",
              "</div>\n",
              "      <button class=\"colab-df-convert\" onclick=\"convertToInteractive('df-d7e61945-249a-48f3-a8ac-3fae7132a083')\"\n",
              "              title=\"Convert this dataframe to an interactive table.\"\n",
              "              style=\"display:none;\">\n",
              "        \n",
              "  <svg xmlns=\"http://www.w3.org/2000/svg\" height=\"24px\"viewBox=\"0 0 24 24\"\n",
              "       width=\"24px\">\n",
              "    <path d=\"M0 0h24v24H0V0z\" fill=\"none\"/>\n",
              "    <path d=\"M18.56 5.44l.94 2.06.94-2.06 2.06-.94-2.06-.94-.94-2.06-.94 2.06-2.06.94zm-11 1L8.5 8.5l.94-2.06 2.06-.94-2.06-.94L8.5 2.5l-.94 2.06-2.06.94zm10 10l.94 2.06.94-2.06 2.06-.94-2.06-.94-.94-2.06-.94 2.06-2.06.94z\"/><path d=\"M17.41 7.96l-1.37-1.37c-.4-.4-.92-.59-1.43-.59-.52 0-1.04.2-1.43.59L10.3 9.45l-7.72 7.72c-.78.78-.78 2.05 0 2.83L4 21.41c.39.39.9.59 1.41.59.51 0 1.02-.2 1.41-.59l7.78-7.78 2.81-2.81c.8-.78.8-2.07 0-2.86zM5.41 20L4 18.59l7.72-7.72 1.47 1.35L5.41 20z\"/>\n",
              "  </svg>\n",
              "      </button>\n",
              "      \n",
              "  <style>\n",
              "    .colab-df-container {\n",
              "      display:flex;\n",
              "      flex-wrap:wrap;\n",
              "      gap: 12px;\n",
              "    }\n",
              "\n",
              "    .colab-df-convert {\n",
              "      background-color: #E8F0FE;\n",
              "      border: none;\n",
              "      border-radius: 50%;\n",
              "      cursor: pointer;\n",
              "      display: none;\n",
              "      fill: #1967D2;\n",
              "      height: 32px;\n",
              "      padding: 0 0 0 0;\n",
              "      width: 32px;\n",
              "    }\n",
              "\n",
              "    .colab-df-convert:hover {\n",
              "      background-color: #E2EBFA;\n",
              "      box-shadow: 0px 1px 2px rgba(60, 64, 67, 0.3), 0px 1px 3px 1px rgba(60, 64, 67, 0.15);\n",
              "      fill: #174EA6;\n",
              "    }\n",
              "\n",
              "    [theme=dark] .colab-df-convert {\n",
              "      background-color: #3B4455;\n",
              "      fill: #D2E3FC;\n",
              "    }\n",
              "\n",
              "    [theme=dark] .colab-df-convert:hover {\n",
              "      background-color: #434B5C;\n",
              "      box-shadow: 0px 1px 3px 1px rgba(0, 0, 0, 0.15);\n",
              "      filter: drop-shadow(0px 1px 2px rgba(0, 0, 0, 0.3));\n",
              "      fill: #FFFFFF;\n",
              "    }\n",
              "  </style>\n",
              "\n",
              "      <script>\n",
              "        const buttonEl =\n",
              "          document.querySelector('#df-d7e61945-249a-48f3-a8ac-3fae7132a083 button.colab-df-convert');\n",
              "        buttonEl.style.display =\n",
              "          google.colab.kernel.accessAllowed ? 'block' : 'none';\n",
              "\n",
              "        async function convertToInteractive(key) {\n",
              "          const element = document.querySelector('#df-d7e61945-249a-48f3-a8ac-3fae7132a083');\n",
              "          const dataTable =\n",
              "            await google.colab.kernel.invokeFunction('convertToInteractive',\n",
              "                                                     [key], {});\n",
              "          if (!dataTable) return;\n",
              "\n",
              "          const docLinkHtml = 'Like what you see? Visit the ' +\n",
              "            '<a target=\"_blank\" href=https://colab.research.google.com/notebooks/data_table.ipynb>data table notebook</a>'\n",
              "            + ' to learn more about interactive tables.';\n",
              "          element.innerHTML = '';\n",
              "          dataTable['output_type'] = 'display_data';\n",
              "          await google.colab.output.renderOutput(dataTable, element);\n",
              "          const docLink = document.createElement('div');\n",
              "          docLink.innerHTML = docLinkHtml;\n",
              "          element.appendChild(docLink);\n",
              "        }\n",
              "      </script>\n",
              "    </div>\n",
              "  </div>\n",
              "  "
            ],
            "text/plain": [
              "                     Unnamed: 2  \\\n",
              "0                      Variable   \n",
              "1                    CustomerID   \n",
              "2                         Churn   \n",
              "3                        Tenure   \n",
              "4          PreferredLoginDevice   \n",
              "5                      CityTier   \n",
              "6               WarehouseToHome   \n",
              "7          PreferredPaymentMode   \n",
              "8                        Gender   \n",
              "9                HourSpendOnApp   \n",
              "10     NumberOfDeviceRegistered   \n",
              "11             PreferedOrderCat   \n",
              "12            SatisfactionScore   \n",
              "13                MaritalStatus   \n",
              "14              NumberOfAddress   \n",
              "15                     Complain   \n",
              "16  OrderAmountHikeFromlastYear   \n",
              "17                   CouponUsed   \n",
              "18                   OrderCount   \n",
              "19            DaySinceLastOrder   \n",
              "20               CashbackAmount   \n",
              "\n",
              "                                           Unnamed: 3  \n",
              "0                                         Discerption  \n",
              "1                                  Unique customer ID  \n",
              "2                                          Churn Flag  \n",
              "3                  Tenure of customer in organization  \n",
              "4                  Preferred login device of customer  \n",
              "5                                           City tier  \n",
              "6   Distance in between warehouse to home of customer  \n",
              "7                Preferred payment method of customer  \n",
              "8                                  Gender of customer  \n",
              "9   Number of hours spend on mobile application or...  \n",
              "10  Total number of deceives is registered on part...  \n",
              "11  Preferred order category of customer in last m...  \n",
              "12          Satisfactory score of customer on service  \n",
              "13                         Marital status of customer  \n",
              "14  Total number of added added on particular cust...  \n",
              "15        Any complaint has been raised in last month  \n",
              "16       Percentage increases in order from last year  \n",
              "17  Total number of coupon has been used in last m...  \n",
              "18  Total number of orders has been places in last...  \n",
              "19                   Day Since last order by customer  \n",
              "20                     Average cashback in last month  "
            ]
          },
          "execution_count": 7,
          "metadata": {},
          "output_type": "execute_result"
        }
      ],
      "source": [
        "# Reading data information/dictionary to a dataframe\n",
        "data_info = pd.read_excel('/content/E Commerce Dataset.xlsx', sheet_name=0)\n",
        "data_info.drop(['Unnamed: 0', 'Unnamed: 1'], axis=1, inplace=True)\n",
        "data_info"
      ]
    },
    {
      "cell_type": "code",
      "execution_count": null,
      "metadata": {
        "id": "cTlfKI22zkHy"
      },
      "outputs": [],
      "source": [
        "# Saving it to a txt for easy reference\n",
        "np.savetxt(r'data_info.txt', data_info.values, fmt='%s')"
      ]
    },
    {
      "cell_type": "markdown",
      "metadata": {
        "id": "6PZbygso03xS"
      },
      "source": [
        "# **Data Cleaning**"
      ]
    },
    {
      "cell_type": "code",
      "execution_count": null,
      "metadata": {
        "colab": {
          "base_uri": "https://localhost:8080/"
        },
        "id": "1uHZYKoWNiHX",
        "outputId": "a5216302-44cd-4ade-8b0e-d945c71b293d"
      },
      "outputs": [
        {
          "name": "stderr",
          "output_type": "stream",
          "text": [
            "INFO:root:Data cleaning starts\n"
          ]
        }
      ],
      "source": [
        "logger.info('Data cleaning starts')"
      ]
    },
    {
      "cell_type": "markdown",
      "metadata": {
        "id": "1Zg6s9Gd95u2"
      },
      "source": [
        "## **Basic Info**"
      ]
    },
    {
      "cell_type": "code",
      "execution_count": null,
      "metadata": {
        "colab": {
          "base_uri": "https://localhost:8080/"
        },
        "id": "nI_3QjJi0dc1",
        "outputId": "2c8c4b49-32ee-465e-d12e-034963a8f248"
      },
      "outputs": [
        {
          "name": "stdout",
          "output_type": "stream",
          "text": [
            "<class 'pandas.core.frame.DataFrame'>\n",
            "RangeIndex: 5630 entries, 0 to 5629\n",
            "Data columns (total 20 columns):\n",
            " #   Column                       Non-Null Count  Dtype  \n",
            "---  ------                       --------------  -----  \n",
            " 0   CustomerID                   5630 non-null   int64  \n",
            " 1   Churn                        5630 non-null   int64  \n",
            " 2   Tenure                       5366 non-null   float64\n",
            " 3   PreferredLoginDevice         5630 non-null   object \n",
            " 4   CityTier                     5630 non-null   int64  \n",
            " 5   WarehouseToHome              5379 non-null   float64\n",
            " 6   PreferredPaymentMode         5630 non-null   object \n",
            " 7   Gender                       5630 non-null   object \n",
            " 8   HourSpendOnApp               5375 non-null   float64\n",
            " 9   NumberOfDeviceRegistered     5630 non-null   int64  \n",
            " 10  PreferedOrderCat             5630 non-null   object \n",
            " 11  SatisfactionScore            5630 non-null   int64  \n",
            " 12  MaritalStatus                5630 non-null   object \n",
            " 13  NumberOfAddress              5630 non-null   int64  \n",
            " 14  Complain                     5630 non-null   int64  \n",
            " 15  OrderAmountHikeFromlastYear  5365 non-null   float64\n",
            " 16  CouponUsed                   5374 non-null   float64\n",
            " 17  OrderCount                   5372 non-null   float64\n",
            " 18  DaySinceLastOrder            5323 non-null   float64\n",
            " 19  CashbackAmount               5630 non-null   float64\n",
            "dtypes: float64(8), int64(7), object(5)\n",
            "memory usage: 879.8+ KB\n"
          ]
        }
      ],
      "source": [
        "# Basic information on the dataset\n",
        "df.info()"
      ]
    },
    {
      "cell_type": "markdown",
      "metadata": {
        "id": "fy2M2_131qwU"
      },
      "source": [
        "**OBSERVATIONS**\n",
        "- 5630 entries and 20 columns\n",
        "- **Churn** is our target variable\n",
        "- 8 floating point variables, 7 integer variables and 5 string variables\n",
        "- There are some missing values."
      ]
    },
    {
      "cell_type": "markdown",
      "metadata": {
        "id": "82-Ijgpw2ZiO"
      },
      "source": [
        "**Check for duplicate rows** -"
      ]
    },
    {
      "cell_type": "code",
      "execution_count": null,
      "metadata": {
        "colab": {
          "base_uri": "https://localhost:8080/"
        },
        "id": "7on9rlOC1Cxa",
        "outputId": "95de1f23-ce0c-40be-a68e-ec0b0c1852d6"
      },
      "outputs": [
        {
          "data": {
            "text/plain": [
              "0"
            ]
          },
          "execution_count": 11,
          "metadata": {},
          "output_type": "execute_result"
        }
      ],
      "source": [
        "df.duplicated().sum()"
      ]
    },
    {
      "cell_type": "markdown",
      "metadata": {
        "id": "QsOP0o4V2hJ6"
      },
      "source": [
        "No duplicates"
      ]
    },
    {
      "cell_type": "markdown",
      "metadata": {
        "id": "KC2XhYej47xG"
      },
      "source": [
        "## **Check for Inconsistancies and corruptness**"
      ]
    },
    {
      "cell_type": "code",
      "execution_count": null,
      "metadata": {
        "colab": {
          "base_uri": "https://localhost:8080/"
        },
        "id": "y6TRxHr45Dlf",
        "outputId": "e8f32c8d-3400-42f1-94fa-a1b67ff10372"
      },
      "outputs": [
        {
          "data": {
            "text/plain": [
              "CustomerID                     5630\n",
              "Churn                             2\n",
              "Tenure                           36\n",
              "PreferredLoginDevice              3\n",
              "CityTier                          3\n",
              "WarehouseToHome                  34\n",
              "PreferredPaymentMode              7\n",
              "Gender                            2\n",
              "HourSpendOnApp                    6\n",
              "NumberOfDeviceRegistered          6\n",
              "PreferedOrderCat                  6\n",
              "SatisfactionScore                 5\n",
              "MaritalStatus                     3\n",
              "NumberOfAddress                  15\n",
              "Complain                          2\n",
              "OrderAmountHikeFromlastYear      16\n",
              "CouponUsed                       17\n",
              "OrderCount                       16\n",
              "DaySinceLastOrder                22\n",
              "CashbackAmount                 2586\n",
              "dtype: int64"
            ]
          },
          "execution_count": 12,
          "metadata": {},
          "output_type": "execute_result"
        }
      ],
      "source": [
        "# Find the unique number of values for each variable\n",
        "df.nunique()"
      ]
    },
    {
      "cell_type": "markdown",
      "metadata": {
        "id": "L4aWKq4s5U90"
      },
      "source": [
        "Except for Customer ID and CashbackAmount, lets find the unique values for the other columns"
      ]
    },
    {
      "cell_type": "code",
      "execution_count": null,
      "metadata": {
        "colab": {
          "base_uri": "https://localhost:8080/"
        },
        "id": "kJrnpBKP5e-e",
        "outputId": "1b10ed15-d8c0-479a-d3d7-9a5ae7f3559b"
      },
      "outputs": [
        {
          "name": "stdout",
          "output_type": "stream",
          "text": [
            "Column Name : Churn\n",
            "[1 0]\n",
            "-------------------------------------------------------------\n",
            "Column Name : Tenure\n",
            "[ 4. nan  0. 13. 11.  9. 19. 20. 14.  8. 18.  5.  2. 30.  1. 23.  3. 29.\n",
            "  6. 26. 28.  7. 24. 25. 10. 15. 22. 27. 16. 12. 21. 17. 50. 60. 31. 51.\n",
            " 61.]\n",
            "-------------------------------------------------------------\n",
            "Column Name : PreferredLoginDevice\n",
            "['Mobile Phone' 'Phone' 'Computer']\n",
            "-------------------------------------------------------------\n",
            "Column Name : CityTier\n",
            "[3 1 2]\n",
            "-------------------------------------------------------------\n",
            "Column Name : WarehouseToHome\n",
            "[  6.   8.  30.  15.  12.  22.  11.   9.  31.  18.  13.  20.  29.  28.\n",
            "  26.  14.  nan  10.  27.  17.  23.  33.  19.  35.  24.  16.  25.  32.\n",
            "  34.   5.  21. 126.   7.  36. 127.]\n",
            "-------------------------------------------------------------\n",
            "Column Name : PreferredPaymentMode\n",
            "['Debit Card' 'UPI' 'CC' 'Cash on Delivery' 'E wallet' 'COD' 'Credit Card']\n",
            "-------------------------------------------------------------\n",
            "Column Name : Gender\n",
            "['Female' 'Male']\n",
            "-------------------------------------------------------------\n",
            "Column Name : HourSpendOnApp\n",
            "[ 3.  2. nan  1.  0.  4.  5.]\n",
            "-------------------------------------------------------------\n",
            "Column Name : NumberOfDeviceRegistered\n",
            "[3 4 5 2 1 6]\n",
            "-------------------------------------------------------------\n",
            "Column Name : PreferedOrderCat\n",
            "['Laptop & Accessory' 'Mobile' 'Mobile Phone' 'Others' 'Fashion' 'Grocery']\n",
            "-------------------------------------------------------------\n",
            "Column Name : SatisfactionScore\n",
            "[2 3 5 4 1]\n",
            "-------------------------------------------------------------\n",
            "Column Name : MaritalStatus\n",
            "['Single' 'Divorced' 'Married']\n",
            "-------------------------------------------------------------\n",
            "Column Name : NumberOfAddress\n",
            "[ 9  7  6  8  3  2  4 10  1  5 19 21 11 20 22]\n",
            "-------------------------------------------------------------\n",
            "Column Name : Complain\n",
            "[1 0]\n",
            "-------------------------------------------------------------\n",
            "Column Name : OrderAmountHikeFromlastYear\n",
            "[11. 15. 14. 23. 22. 16. 12. nan 13. 17. 18. 24. 19. 20. 21. 25. 26.]\n",
            "-------------------------------------------------------------\n",
            "Column Name : CouponUsed\n",
            "[ 1.  0.  4.  2.  9.  6. 11. nan  7. 12. 10.  5.  3. 13. 15.  8. 14. 16.]\n",
            "-------------------------------------------------------------\n",
            "Column Name : OrderCount\n",
            "[ 1.  6.  2. 15.  4.  7.  3.  9. nan 11.  5. 12. 10.  8. 13. 14. 16.]\n",
            "-------------------------------------------------------------\n",
            "Column Name : DaySinceLastOrder\n",
            "[ 5.  0.  3.  7.  2.  1.  8.  6.  4. 15.  9. 11. 10. nan 13. 12. 17. 16.\n",
            " 14. 30. 46. 18. 31.]\n",
            "-------------------------------------------------------------\n"
          ]
        }
      ],
      "source": [
        "# Unique values for columns\n",
        "for col in df.drop(['CustomerID', 'CashbackAmount'], axis=1).columns:\n",
        "  print('Column Name :', col)\n",
        "  print(df[col].unique())\n",
        "  print('-------------------------------------------------------------')"
      ]
    },
    {
      "cell_type": "markdown",
      "metadata": {
        "id": "cOw1mQYw7I_a"
      },
      "source": [
        "**OBSERVATIONS :** We can observe the following inconsistancies:\n",
        "- **PreferredLoginDevice** : 'Mobile Phone' and 'Mobile' probably indicates mobile phone, since you cannot login with a land phone -> change it to a common 'Mobile'\n",
        "- **WarehouseToHome** : Has extremely large values like 126 and 127, which is highly unlikely since people don't usually travel that long distance to buy goods. The values might be mistakenly entered -> change 126->26 and 127->27\n",
        "- **PreferredPaymentMode** : \n",
        "  - 'CC' and 'Credit Card' indicate credit card -> change it to 'CC'\n",
        "  - 'Cash on Delivery' and 'COD' indicate cash on delivery -> change it to 'COD'\n",
        "  - In addition, change Debit Card to DC for convenience.\n",
        "- **PreferedOrderCat**:\n",
        "  - 'Mobile' and 'Mobile Phone' -> change it to 'Mobile'\n",
        "  - 'Laptop & Accessory' -> change it to 'Laptop' for convenience.\n",
        "- **NumberOfAddress** : Has large numbers above 10, which seems very unlikely. Need to look into it."
      ]
    },
    {
      "cell_type": "code",
      "execution_count": null,
      "metadata": {
        "id": "0fQpHUPL-F3M"
      },
      "outputs": [],
      "source": [
        "# Correct values of column PreferredLoginDevice, WarehouseToHome, PreferredPaymentMode and PreferedOrderCat\n",
        "df['PreferredLoginDevice'].replace({'Mobile Phone':'Mobile', 'Phone':'Mobile'}, inplace=True)\n",
        "df['WarehouseToHome'].replace({126:26, 127:27}, inplace=True)\n",
        "df['PreferredPaymentMode'].replace({'Credit Card':'CC', 'Cash on Delivery':'COD', 'Debit Card':'DC' }, inplace=True)\n",
        "df['PreferedOrderCat'].replace({'Mobile Phone':'Mobile', 'Laptop & Accessory':'Laptop'}, inplace=True)"
      ]
    },
    {
      "cell_type": "markdown",
      "metadata": {
        "id": "0gHOqVz4_z01"
      },
      "source": [
        "Now lets delve into the problem with the inconsistant values of NumberOfAddress."
      ]
    },
    {
      "cell_type": "code",
      "execution_count": null,
      "metadata": {
        "colab": {
          "base_uri": "https://localhost:8080/"
        },
        "id": "cORMBMJf-FiY",
        "outputId": "3b957792-a2d4-4f6c-f79c-57670794cfa9"
      },
      "outputs": [
        {
          "data": {
            "text/plain": [
              "1453"
            ]
          },
          "execution_count": 15,
          "metadata": {},
          "output_type": "execute_result"
        }
      ],
      "source": [
        "# Number of rows with NumberOfAddress greater than 5\n",
        "df[df.NumberOfAddress>5].shape[0]"
      ]
    },
    {
      "cell_type": "markdown",
      "metadata": {
        "id": "JG3aJJLnJZhg"
      },
      "source": [
        "There seems to be 1453 customers with more than 5 addresses registered in the ecommerce platform, in their name. This seems very unlikely. But we cannot rule out the following possibilities:\n",
        "- The customer might have multiple properties(houses) in their name.\n",
        "- Slight change in the address text.\n",
        "- Addresses of workplace/workplaces if the customer works shifts.\n",
        "- Ordering for someone else\n",
        "- Someone else must be ordering in the customer's name name(either other family member with the customer's knowledge or in the rare case fraud transactions by outsiders).\n",
        "\n",
        "In the above mention cases, multiple addresses might be added. \n",
        "\n",
        "If we have some other information like the actual list of addresses registered or the locations where the orders were made, number of family members, number of children, occupation related information, annual income etc., we might get a little bit insight into the possibility of customers have multiple addresses.\n",
        "\n",
        "However, since we do not have them, we need to explore with the available information and reach a conclusion. We shall analyse more in the EDA process and come to a conclusion."
      ]
    },
    {
      "cell_type": "markdown",
      "metadata": {
        "id": "QMWR2o0O3Q0r"
      },
      "source": [
        "## **Dealing with missing values**"
      ]
    },
    {
      "cell_type": "code",
      "execution_count": null,
      "metadata": {
        "colab": {
          "base_uri": "https://localhost:8080/"
        },
        "id": "s7UarFW62gBN",
        "outputId": "9c1dcf17-0f86-4a52-d8ac-20819a3768f2"
      },
      "outputs": [
        {
          "data": {
            "text/plain": [
              "['Tenure',\n",
              " 'WarehouseToHome',\n",
              " 'HourSpendOnApp',\n",
              " 'OrderAmountHikeFromlastYear',\n",
              " 'CouponUsed',\n",
              " 'OrderCount',\n",
              " 'DaySinceLastOrder']"
            ]
          },
          "execution_count": 16,
          "metadata": {},
          "output_type": "execute_result"
        }
      ],
      "source": [
        "# Find columns with missing values\n",
        "missing_cols = [col for col in df.columns if df[col].isnull().any()]\n",
        "missing_cols"
      ]
    },
    {
      "cell_type": "code",
      "execution_count": null,
      "metadata": {
        "colab": {
          "base_uri": "https://localhost:8080/"
        },
        "id": "zkIhllL_3aHg",
        "outputId": "2c538759-c5bb-4d8e-d3eb-ef48d4a89c5c"
      },
      "outputs": [
        {
          "data": {
            "text/html": [
              "\n",
              "  <div id=\"df-265d21f5-ff5f-4a43-8506-769d47ab0c83\">\n",
              "    <div class=\"colab-df-container\">\n",
              "      <div>\n",
              "<style scoped>\n",
              "    .dataframe tbody tr th:only-of-type {\n",
              "        vertical-align: middle;\n",
              "    }\n",
              "\n",
              "    .dataframe tbody tr th {\n",
              "        vertical-align: top;\n",
              "    }\n",
              "\n",
              "    .dataframe thead th {\n",
              "        text-align: right;\n",
              "    }\n",
              "</style>\n",
              "<table border=\"1\" class=\"dataframe\">\n",
              "  <thead>\n",
              "    <tr style=\"text-align: right;\">\n",
              "      <th></th>\n",
              "      <th>column</th>\n",
              "      <th>no. of missing values</th>\n",
              "      <th>percentage</th>\n",
              "    </tr>\n",
              "  </thead>\n",
              "  <tbody>\n",
              "    <tr>\n",
              "      <th>0</th>\n",
              "      <td>Tenure</td>\n",
              "      <td>264</td>\n",
              "      <td>4.689165</td>\n",
              "    </tr>\n",
              "    <tr>\n",
              "      <th>1</th>\n",
              "      <td>WarehouseToHome</td>\n",
              "      <td>251</td>\n",
              "      <td>4.458259</td>\n",
              "    </tr>\n",
              "    <tr>\n",
              "      <th>2</th>\n",
              "      <td>HourSpendOnApp</td>\n",
              "      <td>255</td>\n",
              "      <td>4.529307</td>\n",
              "    </tr>\n",
              "    <tr>\n",
              "      <th>3</th>\n",
              "      <td>OrderAmountHikeFromlastYear</td>\n",
              "      <td>265</td>\n",
              "      <td>4.706927</td>\n",
              "    </tr>\n",
              "    <tr>\n",
              "      <th>4</th>\n",
              "      <td>CouponUsed</td>\n",
              "      <td>256</td>\n",
              "      <td>4.547069</td>\n",
              "    </tr>\n",
              "    <tr>\n",
              "      <th>5</th>\n",
              "      <td>OrderCount</td>\n",
              "      <td>258</td>\n",
              "      <td>4.582593</td>\n",
              "    </tr>\n",
              "    <tr>\n",
              "      <th>6</th>\n",
              "      <td>DaySinceLastOrder</td>\n",
              "      <td>307</td>\n",
              "      <td>5.452931</td>\n",
              "    </tr>\n",
              "  </tbody>\n",
              "</table>\n",
              "</div>\n",
              "      <button class=\"colab-df-convert\" onclick=\"convertToInteractive('df-265d21f5-ff5f-4a43-8506-769d47ab0c83')\"\n",
              "              title=\"Convert this dataframe to an interactive table.\"\n",
              "              style=\"display:none;\">\n",
              "        \n",
              "  <svg xmlns=\"http://www.w3.org/2000/svg\" height=\"24px\"viewBox=\"0 0 24 24\"\n",
              "       width=\"24px\">\n",
              "    <path d=\"M0 0h24v24H0V0z\" fill=\"none\"/>\n",
              "    <path d=\"M18.56 5.44l.94 2.06.94-2.06 2.06-.94-2.06-.94-.94-2.06-.94 2.06-2.06.94zm-11 1L8.5 8.5l.94-2.06 2.06-.94-2.06-.94L8.5 2.5l-.94 2.06-2.06.94zm10 10l.94 2.06.94-2.06 2.06-.94-2.06-.94-.94-2.06-.94 2.06-2.06.94z\"/><path d=\"M17.41 7.96l-1.37-1.37c-.4-.4-.92-.59-1.43-.59-.52 0-1.04.2-1.43.59L10.3 9.45l-7.72 7.72c-.78.78-.78 2.05 0 2.83L4 21.41c.39.39.9.59 1.41.59.51 0 1.02-.2 1.41-.59l7.78-7.78 2.81-2.81c.8-.78.8-2.07 0-2.86zM5.41 20L4 18.59l7.72-7.72 1.47 1.35L5.41 20z\"/>\n",
              "  </svg>\n",
              "      </button>\n",
              "      \n",
              "  <style>\n",
              "    .colab-df-container {\n",
              "      display:flex;\n",
              "      flex-wrap:wrap;\n",
              "      gap: 12px;\n",
              "    }\n",
              "\n",
              "    .colab-df-convert {\n",
              "      background-color: #E8F0FE;\n",
              "      border: none;\n",
              "      border-radius: 50%;\n",
              "      cursor: pointer;\n",
              "      display: none;\n",
              "      fill: #1967D2;\n",
              "      height: 32px;\n",
              "      padding: 0 0 0 0;\n",
              "      width: 32px;\n",
              "    }\n",
              "\n",
              "    .colab-df-convert:hover {\n",
              "      background-color: #E2EBFA;\n",
              "      box-shadow: 0px 1px 2px rgba(60, 64, 67, 0.3), 0px 1px 3px 1px rgba(60, 64, 67, 0.15);\n",
              "      fill: #174EA6;\n",
              "    }\n",
              "\n",
              "    [theme=dark] .colab-df-convert {\n",
              "      background-color: #3B4455;\n",
              "      fill: #D2E3FC;\n",
              "    }\n",
              "\n",
              "    [theme=dark] .colab-df-convert:hover {\n",
              "      background-color: #434B5C;\n",
              "      box-shadow: 0px 1px 3px 1px rgba(0, 0, 0, 0.15);\n",
              "      filter: drop-shadow(0px 1px 2px rgba(0, 0, 0, 0.3));\n",
              "      fill: #FFFFFF;\n",
              "    }\n",
              "  </style>\n",
              "\n",
              "      <script>\n",
              "        const buttonEl =\n",
              "          document.querySelector('#df-265d21f5-ff5f-4a43-8506-769d47ab0c83 button.colab-df-convert');\n",
              "        buttonEl.style.display =\n",
              "          google.colab.kernel.accessAllowed ? 'block' : 'none';\n",
              "\n",
              "        async function convertToInteractive(key) {\n",
              "          const element = document.querySelector('#df-265d21f5-ff5f-4a43-8506-769d47ab0c83');\n",
              "          const dataTable =\n",
              "            await google.colab.kernel.invokeFunction('convertToInteractive',\n",
              "                                                     [key], {});\n",
              "          if (!dataTable) return;\n",
              "\n",
              "          const docLinkHtml = 'Like what you see? Visit the ' +\n",
              "            '<a target=\"_blank\" href=https://colab.research.google.com/notebooks/data_table.ipynb>data table notebook</a>'\n",
              "            + ' to learn more about interactive tables.';\n",
              "          element.innerHTML = '';\n",
              "          dataTable['output_type'] = 'display_data';\n",
              "          await google.colab.output.renderOutput(dataTable, element);\n",
              "          const docLink = document.createElement('div');\n",
              "          docLink.innerHTML = docLinkHtml;\n",
              "          element.appendChild(docLink);\n",
              "        }\n",
              "      </script>\n",
              "    </div>\n",
              "  </div>\n",
              "  "
            ],
            "text/plain": [
              "                        column  no. of missing values  percentage\n",
              "0                       Tenure                    264    4.689165\n",
              "1              WarehouseToHome                    251    4.458259\n",
              "2               HourSpendOnApp                    255    4.529307\n",
              "3  OrderAmountHikeFromlastYear                    265    4.706927\n",
              "4                   CouponUsed                    256    4.547069\n",
              "5                   OrderCount                    258    4.582593\n",
              "6            DaySinceLastOrder                    307    5.452931"
            ]
          },
          "execution_count": 17,
          "metadata": {},
          "output_type": "execute_result"
        }
      ],
      "source": [
        "# Find the % of missing value in the above list of columns\n",
        "percent = df[missing_cols].isnull().sum() * 100/len(df)\n",
        "missing_df = pd.DataFrame({'column':missing_cols,\n",
        "                           'no. of missing values' : df[missing_cols].isnull().sum().values,\n",
        "                           'percentage' : percent.values})\n",
        "missing_df"
      ]
    },
    {
      "cell_type": "markdown",
      "metadata": {
        "id": "rEuc3BGCOgKa"
      },
      "source": [
        "We see that the percent of missing values for any column is below 6%. We can either drop them (columnwise/rowwise) or impute them using any suitable method or a combination of both.\n",
        "\n",
        "Dropping the column is not recommended, since each column has a max of only 6% missing values.\n",
        "\n",
        "Lets look at the number of missing values in each row. If any rows has 4 or more than 4 missing values, we shall drop those rows."
      ]
    },
    {
      "cell_type": "code",
      "execution_count": null,
      "metadata": {
        "colab": {
          "base_uri": "https://localhost:8080/"
        },
        "id": "7Gnxqq4FRTDF",
        "outputId": "d846c1c4-9f5e-4f88-ab32-9a1a48f88398"
      },
      "outputs": [
        {
          "data": {
            "text/plain": [
              "0    3774\n",
              "1    1856\n",
              "dtype: int64"
            ]
          },
          "execution_count": 18,
          "metadata": {},
          "output_type": "execute_result"
        }
      ],
      "source": [
        "# Calculate the number of missing values in each row and finding the count\n",
        "df.isnull().sum(axis=1).value_counts()"
      ]
    },
    {
      "cell_type": "markdown",
      "metadata": {
        "id": "xHFQMTdaW3Sx"
      },
      "source": [
        "The maximum number of missing value in any given row is 1. So, its difficult to drop rows with losing substantial information from the data. Therefore we shall impute them.\n",
        "\n",
        "In our case, all our missing data are numeric type. Therefore, we shall fill the missing values with mean or median of the variable, depending in the skewness value."
      ]
    },
    {
      "cell_type": "code",
      "execution_count": null,
      "metadata": {
        "colab": {
          "base_uri": "https://localhost:8080/"
        },
        "id": "1rouUmK-qTB-",
        "outputId": "f4ba575d-f6ca-4104-cd59-0510b8d2f5ad"
      },
      "outputs": [
        {
          "data": {
            "text/plain": [
              "Tenure                         0.736513\n",
              "WarehouseToHome                0.898406\n",
              "HourSpendOnApp                -0.027213\n",
              "OrderAmountHikeFromlastYear    0.790785\n",
              "CouponUsed                     2.545653\n",
              "OrderCount                     2.196414\n",
              "DaySinceLastOrder              1.191000\n",
              "dtype: float64"
            ]
          },
          "execution_count": 19,
          "metadata": {},
          "output_type": "execute_result"
        }
      ],
      "source": [
        "# Calculate skewness of missing value columns\n",
        "df[missing_cols].skew(axis=0, skipna=True, numeric_only=True)"
      ]
    },
    {
      "cell_type": "markdown",
      "metadata": {
        "id": "0rXdFMMztN21"
      },
      "source": [
        "We can see that \n",
        "- **HourSpendOnApp** is normally distributed -> Fill missing values with mean\n",
        "- **Tenure and OrderAmountHikeFromlastYear** are moderately skewed -> Fill missing values with mean\n",
        "- **WarehouseToHome, CouponUsed, OrderCount and DaySinceLastOrder** are highly skewed -> Fill missing values with median"
      ]
    },
    {
      "cell_type": "code",
      "execution_count": null,
      "metadata": {
        "colab": {
          "base_uri": "https://localhost:8080/"
        },
        "id": "vNCc0H_E5Gau",
        "outputId": "e0f85a5d-8dfc-45d1-dbc4-d9e35101dfba"
      },
      "outputs": [
        {
          "data": {
            "text/plain": [
              "(3, 10, 16, 16)"
            ]
          },
          "execution_count": 20,
          "metadata": {},
          "output_type": "execute_result"
        }
      ],
      "source": [
        "round(df.HourSpendOnApp.mean()), round(df.Tenure.mean()), round(df.OrderAmountHikeFromlastYear.mean()), round(df.WarehouseToHome.mean())"
      ]
    },
    {
      "cell_type": "code",
      "execution_count": null,
      "metadata": {
        "colab": {
          "base_uri": "https://localhost:8080/"
        },
        "id": "IPv0Cg7m5ptR",
        "outputId": "dee8b0db-6c87-4615-a114-090d42ff914c"
      },
      "outputs": [
        {
          "data": {
            "text/plain": [
              "(1.0, 2.0, 3.0)"
            ]
          },
          "execution_count": 21,
          "metadata": {},
          "output_type": "execute_result"
        }
      ],
      "source": [
        "df.CouponUsed.median(), df.OrderCount.median(), df.DaySinceLastOrder.median()"
      ]
    },
    {
      "cell_type": "code",
      "execution_count": null,
      "metadata": {
        "id": "272ALyNuxQIT"
      },
      "outputs": [],
      "source": [
        "# Fill missing values ith mean and median\n",
        "df.fillna({'HourSpendOnApp':round(df.HourSpendOnApp.mean()), \n",
        "           'Tenure':round(df.Tenure.mean()), \n",
        "           'OrderAmountHikeFromlastYear':round(df.OrderAmountHikeFromlastYear.mean()),\n",
        "           'WarehouseToHome':round(df.WarehouseToHome.mean()), \n",
        "           'CouponUsed':df.CouponUsed.median(), \n",
        "           'OrderCount':df.OrderCount.median(), \n",
        "           'DaySinceLastOrder':df.DaySinceLastOrder.median()}, inplace=True)"
      ]
    },
    {
      "cell_type": "code",
      "execution_count": null,
      "metadata": {
        "colab": {
          "base_uri": "https://localhost:8080/"
        },
        "id": "QJTP-QLK51RY",
        "outputId": "3c645671-d363-4e6f-cbe5-67cde77fa947"
      },
      "outputs": [
        {
          "data": {
            "text/html": [
              "\n",
              "  <div id=\"df-8c8174f0-4936-494a-a615-5e7c54a7b28d\">\n",
              "    <div class=\"colab-df-container\">\n",
              "      <div>\n",
              "<style scoped>\n",
              "    .dataframe tbody tr th:only-of-type {\n",
              "        vertical-align: middle;\n",
              "    }\n",
              "\n",
              "    .dataframe tbody tr th {\n",
              "        vertical-align: top;\n",
              "    }\n",
              "\n",
              "    .dataframe thead th {\n",
              "        text-align: right;\n",
              "    }\n",
              "</style>\n",
              "<table border=\"1\" class=\"dataframe\">\n",
              "  <thead>\n",
              "    <tr style=\"text-align: right;\">\n",
              "      <th></th>\n",
              "      <th>CustomerID</th>\n",
              "      <th>Churn</th>\n",
              "      <th>Tenure</th>\n",
              "      <th>PreferredLoginDevice</th>\n",
              "      <th>CityTier</th>\n",
              "      <th>WarehouseToHome</th>\n",
              "      <th>PreferredPaymentMode</th>\n",
              "      <th>Gender</th>\n",
              "      <th>HourSpendOnApp</th>\n",
              "      <th>NumberOfDeviceRegistered</th>\n",
              "      <th>PreferedOrderCat</th>\n",
              "      <th>SatisfactionScore</th>\n",
              "      <th>MaritalStatus</th>\n",
              "      <th>NumberOfAddress</th>\n",
              "      <th>Complain</th>\n",
              "      <th>OrderAmountHikeFromlastYear</th>\n",
              "      <th>CouponUsed</th>\n",
              "      <th>OrderCount</th>\n",
              "      <th>DaySinceLastOrder</th>\n",
              "      <th>CashbackAmount</th>\n",
              "    </tr>\n",
              "  </thead>\n",
              "  <tbody>\n",
              "    <tr>\n",
              "      <th>0</th>\n",
              "      <td>50001</td>\n",
              "      <td>1</td>\n",
              "      <td>4.0</td>\n",
              "      <td>Mobile</td>\n",
              "      <td>3</td>\n",
              "      <td>6.0</td>\n",
              "      <td>DC</td>\n",
              "      <td>Female</td>\n",
              "      <td>3.0</td>\n",
              "      <td>3</td>\n",
              "      <td>Laptop</td>\n",
              "      <td>2</td>\n",
              "      <td>Single</td>\n",
              "      <td>9</td>\n",
              "      <td>1</td>\n",
              "      <td>11.0</td>\n",
              "      <td>1.0</td>\n",
              "      <td>1.0</td>\n",
              "      <td>5.0</td>\n",
              "      <td>159.93</td>\n",
              "    </tr>\n",
              "    <tr>\n",
              "      <th>1</th>\n",
              "      <td>50002</td>\n",
              "      <td>1</td>\n",
              "      <td>10.0</td>\n",
              "      <td>Mobile</td>\n",
              "      <td>1</td>\n",
              "      <td>8.0</td>\n",
              "      <td>UPI</td>\n",
              "      <td>Male</td>\n",
              "      <td>3.0</td>\n",
              "      <td>4</td>\n",
              "      <td>Mobile</td>\n",
              "      <td>3</td>\n",
              "      <td>Single</td>\n",
              "      <td>7</td>\n",
              "      <td>1</td>\n",
              "      <td>15.0</td>\n",
              "      <td>0.0</td>\n",
              "      <td>1.0</td>\n",
              "      <td>0.0</td>\n",
              "      <td>120.90</td>\n",
              "    </tr>\n",
              "    <tr>\n",
              "      <th>2</th>\n",
              "      <td>50003</td>\n",
              "      <td>1</td>\n",
              "      <td>10.0</td>\n",
              "      <td>Mobile</td>\n",
              "      <td>1</td>\n",
              "      <td>30.0</td>\n",
              "      <td>DC</td>\n",
              "      <td>Male</td>\n",
              "      <td>2.0</td>\n",
              "      <td>4</td>\n",
              "      <td>Mobile</td>\n",
              "      <td>3</td>\n",
              "      <td>Single</td>\n",
              "      <td>6</td>\n",
              "      <td>1</td>\n",
              "      <td>14.0</td>\n",
              "      <td>0.0</td>\n",
              "      <td>1.0</td>\n",
              "      <td>3.0</td>\n",
              "      <td>120.28</td>\n",
              "    </tr>\n",
              "    <tr>\n",
              "      <th>3</th>\n",
              "      <td>50004</td>\n",
              "      <td>1</td>\n",
              "      <td>0.0</td>\n",
              "      <td>Mobile</td>\n",
              "      <td>3</td>\n",
              "      <td>15.0</td>\n",
              "      <td>DC</td>\n",
              "      <td>Male</td>\n",
              "      <td>2.0</td>\n",
              "      <td>4</td>\n",
              "      <td>Laptop</td>\n",
              "      <td>5</td>\n",
              "      <td>Single</td>\n",
              "      <td>8</td>\n",
              "      <td>0</td>\n",
              "      <td>23.0</td>\n",
              "      <td>0.0</td>\n",
              "      <td>1.0</td>\n",
              "      <td>3.0</td>\n",
              "      <td>134.07</td>\n",
              "    </tr>\n",
              "    <tr>\n",
              "      <th>4</th>\n",
              "      <td>50005</td>\n",
              "      <td>1</td>\n",
              "      <td>0.0</td>\n",
              "      <td>Mobile</td>\n",
              "      <td>1</td>\n",
              "      <td>12.0</td>\n",
              "      <td>CC</td>\n",
              "      <td>Male</td>\n",
              "      <td>3.0</td>\n",
              "      <td>3</td>\n",
              "      <td>Mobile</td>\n",
              "      <td>5</td>\n",
              "      <td>Single</td>\n",
              "      <td>3</td>\n",
              "      <td>0</td>\n",
              "      <td>11.0</td>\n",
              "      <td>1.0</td>\n",
              "      <td>1.0</td>\n",
              "      <td>3.0</td>\n",
              "      <td>129.60</td>\n",
              "    </tr>\n",
              "  </tbody>\n",
              "</table>\n",
              "</div>\n",
              "      <button class=\"colab-df-convert\" onclick=\"convertToInteractive('df-8c8174f0-4936-494a-a615-5e7c54a7b28d')\"\n",
              "              title=\"Convert this dataframe to an interactive table.\"\n",
              "              style=\"display:none;\">\n",
              "        \n",
              "  <svg xmlns=\"http://www.w3.org/2000/svg\" height=\"24px\"viewBox=\"0 0 24 24\"\n",
              "       width=\"24px\">\n",
              "    <path d=\"M0 0h24v24H0V0z\" fill=\"none\"/>\n",
              "    <path d=\"M18.56 5.44l.94 2.06.94-2.06 2.06-.94-2.06-.94-.94-2.06-.94 2.06-2.06.94zm-11 1L8.5 8.5l.94-2.06 2.06-.94-2.06-.94L8.5 2.5l-.94 2.06-2.06.94zm10 10l.94 2.06.94-2.06 2.06-.94-2.06-.94-.94-2.06-.94 2.06-2.06.94z\"/><path d=\"M17.41 7.96l-1.37-1.37c-.4-.4-.92-.59-1.43-.59-.52 0-1.04.2-1.43.59L10.3 9.45l-7.72 7.72c-.78.78-.78 2.05 0 2.83L4 21.41c.39.39.9.59 1.41.59.51 0 1.02-.2 1.41-.59l7.78-7.78 2.81-2.81c.8-.78.8-2.07 0-2.86zM5.41 20L4 18.59l7.72-7.72 1.47 1.35L5.41 20z\"/>\n",
              "  </svg>\n",
              "      </button>\n",
              "      \n",
              "  <style>\n",
              "    .colab-df-container {\n",
              "      display:flex;\n",
              "      flex-wrap:wrap;\n",
              "      gap: 12px;\n",
              "    }\n",
              "\n",
              "    .colab-df-convert {\n",
              "      background-color: #E8F0FE;\n",
              "      border: none;\n",
              "      border-radius: 50%;\n",
              "      cursor: pointer;\n",
              "      display: none;\n",
              "      fill: #1967D2;\n",
              "      height: 32px;\n",
              "      padding: 0 0 0 0;\n",
              "      width: 32px;\n",
              "    }\n",
              "\n",
              "    .colab-df-convert:hover {\n",
              "      background-color: #E2EBFA;\n",
              "      box-shadow: 0px 1px 2px rgba(60, 64, 67, 0.3), 0px 1px 3px 1px rgba(60, 64, 67, 0.15);\n",
              "      fill: #174EA6;\n",
              "    }\n",
              "\n",
              "    [theme=dark] .colab-df-convert {\n",
              "      background-color: #3B4455;\n",
              "      fill: #D2E3FC;\n",
              "    }\n",
              "\n",
              "    [theme=dark] .colab-df-convert:hover {\n",
              "      background-color: #434B5C;\n",
              "      box-shadow: 0px 1px 3px 1px rgba(0, 0, 0, 0.15);\n",
              "      filter: drop-shadow(0px 1px 2px rgba(0, 0, 0, 0.3));\n",
              "      fill: #FFFFFF;\n",
              "    }\n",
              "  </style>\n",
              "\n",
              "      <script>\n",
              "        const buttonEl =\n",
              "          document.querySelector('#df-8c8174f0-4936-494a-a615-5e7c54a7b28d button.colab-df-convert');\n",
              "        buttonEl.style.display =\n",
              "          google.colab.kernel.accessAllowed ? 'block' : 'none';\n",
              "\n",
              "        async function convertToInteractive(key) {\n",
              "          const element = document.querySelector('#df-8c8174f0-4936-494a-a615-5e7c54a7b28d');\n",
              "          const dataTable =\n",
              "            await google.colab.kernel.invokeFunction('convertToInteractive',\n",
              "                                                     [key], {});\n",
              "          if (!dataTable) return;\n",
              "\n",
              "          const docLinkHtml = 'Like what you see? Visit the ' +\n",
              "            '<a target=\"_blank\" href=https://colab.research.google.com/notebooks/data_table.ipynb>data table notebook</a>'\n",
              "            + ' to learn more about interactive tables.';\n",
              "          element.innerHTML = '';\n",
              "          dataTable['output_type'] = 'display_data';\n",
              "          await google.colab.output.renderOutput(dataTable, element);\n",
              "          const docLink = document.createElement('div');\n",
              "          docLink.innerHTML = docLinkHtml;\n",
              "          element.appendChild(docLink);\n",
              "        }\n",
              "      </script>\n",
              "    </div>\n",
              "  </div>\n",
              "  "
            ],
            "text/plain": [
              "   CustomerID  Churn  Tenure PreferredLoginDevice  CityTier  WarehouseToHome  \\\n",
              "0       50001      1     4.0               Mobile         3              6.0   \n",
              "1       50002      1    10.0               Mobile         1              8.0   \n",
              "2       50003      1    10.0               Mobile         1             30.0   \n",
              "3       50004      1     0.0               Mobile         3             15.0   \n",
              "4       50005      1     0.0               Mobile         1             12.0   \n",
              "\n",
              "  PreferredPaymentMode  Gender  HourSpendOnApp  NumberOfDeviceRegistered  \\\n",
              "0                   DC  Female             3.0                         3   \n",
              "1                  UPI    Male             3.0                         4   \n",
              "2                   DC    Male             2.0                         4   \n",
              "3                   DC    Male             2.0                         4   \n",
              "4                   CC    Male             3.0                         3   \n",
              "\n",
              "  PreferedOrderCat  SatisfactionScore MaritalStatus  NumberOfAddress  \\\n",
              "0           Laptop                  2        Single                9   \n",
              "1           Mobile                  3        Single                7   \n",
              "2           Mobile                  3        Single                6   \n",
              "3           Laptop                  5        Single                8   \n",
              "4           Mobile                  5        Single                3   \n",
              "\n",
              "   Complain  OrderAmountHikeFromlastYear  CouponUsed  OrderCount  \\\n",
              "0         1                         11.0         1.0         1.0   \n",
              "1         1                         15.0         0.0         1.0   \n",
              "2         1                         14.0         0.0         1.0   \n",
              "3         0                         23.0         0.0         1.0   \n",
              "4         0                         11.0         1.0         1.0   \n",
              "\n",
              "   DaySinceLastOrder  CashbackAmount  \n",
              "0                5.0          159.93  \n",
              "1                0.0          120.90  \n",
              "2                3.0          120.28  \n",
              "3                3.0          134.07  \n",
              "4                3.0          129.60  "
            ]
          },
          "execution_count": 23,
          "metadata": {},
          "output_type": "execute_result"
        }
      ],
      "source": [
        "df.head()"
      ]
    },
    {
      "cell_type": "code",
      "execution_count": null,
      "metadata": {
        "colab": {
          "base_uri": "https://localhost:8080/"
        },
        "id": "2yESkXnbvO1G",
        "outputId": "7e9e4a58-f997-42bb-dd3d-abbae0015402"
      },
      "outputs": [
        {
          "data": {
            "text/plain": [
              "CustomerID                     0\n",
              "Churn                          0\n",
              "Tenure                         0\n",
              "PreferredLoginDevice           0\n",
              "CityTier                       0\n",
              "WarehouseToHome                0\n",
              "PreferredPaymentMode           0\n",
              "Gender                         0\n",
              "HourSpendOnApp                 0\n",
              "NumberOfDeviceRegistered       0\n",
              "PreferedOrderCat               0\n",
              "SatisfactionScore              0\n",
              "MaritalStatus                  0\n",
              "NumberOfAddress                0\n",
              "Complain                       0\n",
              "OrderAmountHikeFromlastYear    0\n",
              "CouponUsed                     0\n",
              "OrderCount                     0\n",
              "DaySinceLastOrder              0\n",
              "CashbackAmount                 0\n",
              "dtype: int64"
            ]
          },
          "execution_count": 24,
          "metadata": {},
          "output_type": "execute_result"
        }
      ],
      "source": [
        "df.isnull().sum()"
      ]
    },
    {
      "cell_type": "code",
      "execution_count": null,
      "metadata": {
        "colab": {
          "base_uri": "https://localhost:8080/"
        },
        "id": "Bopa4xTvNpEA",
        "outputId": "f9df8885-0ac2-4add-a24e-74ed9bfba5d3"
      },
      "outputs": [
        {
          "name": "stderr",
          "output_type": "stream",
          "text": [
            "INFO:root:Data cleaning ends!\n"
          ]
        }
      ],
      "source": [
        "logger.info('Data cleaning ends!')"
      ]
    },
    {
      "cell_type": "markdown",
      "metadata": {
        "id": "jM9UIqRMySxT"
      },
      "source": [
        "# **Save the data to Database**"
      ]
    },
    {
      "cell_type": "code",
      "execution_count": null,
      "metadata": {
        "id": "4S-BbJaAvgID"
      },
      "outputs": [],
      "source": [
        "from pymongo import MongoClient"
      ]
    },
    {
      "cell_type": "code",
      "execution_count": null,
      "metadata": {
        "id": "9JFtUAWSQiJF"
      },
      "outputs": [],
      "source": [
        "# Connect to Mongodb cluster\n",
        "client = MongoClient(\"mongodb+srv://<username>:<password>@mycluster.g3bp8fr.mongodb.net/?retryWrites=true&w=majority\")\n",
        "\n",
        "# List of databases\n",
        "db_list = client.list_database_names()"
      ]
    },
    {
      "cell_type": "code",
      "execution_count": null,
      "metadata": {
        "colab": {
          "base_uri": "https://localhost:8080/"
        },
        "id": "cXRzrSREw6ZH",
        "outputId": "ed34b6bd-b29e-42d8-8919-f7f94ba68b35"
      },
      "outputs": [
        {
          "data": {
            "text/plain": [
              "['CHURN', 'loan_db', 'admin', 'local']"
            ]
          },
          "execution_count": 28,
          "metadata": {},
          "output_type": "execute_result"
        }
      ],
      "source": [
        "db_list"
      ]
    },
    {
      "cell_type": "code",
      "execution_count": null,
      "metadata": {
        "colab": {
          "base_uri": "https://localhost:8080/"
        },
        "id": "BueIHEmXQr1B",
        "outputId": "c0cbdcbe-7663-46d0-bde4-21be5e20b6ad"
      },
      "outputs": [
        {
          "name": "stdout",
          "output_type": "stream",
          "text": [
            "['loan_db', 'admin', 'local']\n"
          ]
        }
      ],
      "source": [
        "if 'CHURN' in db_list:\n",
        "  # Drop database and create new database CHURN\n",
        "  client.drop_database('CHURN')\n",
        "  print(client.list_database_names())\n",
        "  mydb = client.CHURN\n",
        "else:\n",
        "  pass"
      ]
    },
    {
      "cell_type": "code",
      "execution_count": null,
      "metadata": {
        "id": "rrcz6L88RwG2"
      },
      "outputs": [],
      "source": [
        "# Creating collection/table 'ecomm_churn' in CHURN database\n",
        "mytb = mydb.ecomm_churn"
      ]
    },
    {
      "cell_type": "code",
      "execution_count": null,
      "metadata": {
        "colab": {
          "base_uri": "https://localhost:8080/"
        },
        "id": "G_HuAjJxSmJo",
        "outputId": "920b4dbe-93aa-4d76-ab45-8bd3fcb0e6d1"
      },
      "outputs": [
        {
          "data": {
            "text/plain": [
              "<pymongo.results.InsertManyResult at 0x7fc851a3e610>"
            ]
          },
          "execution_count": 31,
          "metadata": {},
          "output_type": "execute_result"
        }
      ],
      "source": [
        "# Convert dataframe o dictionary\n",
        "data = df.to_dict(orient='records') \n",
        "\n",
        "# Insert 'data' to ecomm_churn\n",
        "mytb.insert_many(data)"
      ]
    },
    {
      "cell_type": "code",
      "execution_count": null,
      "metadata": {
        "colab": {
          "base_uri": "https://localhost:8080/"
        },
        "id": "4QrZCZdLRopR",
        "outputId": "0af04b03-6ed6-4eb1-c1eb-c89c486d888a"
      },
      "outputs": [
        {
          "data": {
            "text/plain": [
              "['CHURN', 'loan_db', 'admin', 'local']"
            ]
          },
          "execution_count": 32,
          "metadata": {},
          "output_type": "execute_result"
        }
      ],
      "source": [
        "# Now check if CHURN added\n",
        "client.list_database_names()"
      ]
    },
    {
      "cell_type": "code",
      "execution_count": null,
      "metadata": {
        "colab": {
          "base_uri": "https://localhost:8080/"
        },
        "id": "Ir3yVdza4Kyr",
        "outputId": "09d4b565-a8fa-4540-b9b3-508a1b80c046"
      },
      "outputs": [
        {
          "name": "stderr",
          "output_type": "stream",
          "text": [
            "INFO:root:Data saved in database!\n"
          ]
        }
      ],
      "source": [
        "logger.info('Data saved in database!')"
      ]
    }
  ],
  "metadata": {
    "colab": {
      "provenance": []
    },
    "kernelspec": {
      "display_name": "Python 3",
      "name": "python3"
    },
    "language_info": {
      "name": "python"
    }
  },
  "nbformat": 4,
  "nbformat_minor": 0
}
